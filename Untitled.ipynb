{
 "cells": [
  {
   "cell_type": "code",
   "execution_count": 1,
   "metadata": {
    "collapsed": false
   },
   "outputs": [
    {
     "name": "stdout",
     "output_type": "stream",
     "text": [
      "Give me your nameabdul\n"
     ]
    }
   ],
   "source": [
    "name = input(\"Give me your name\")"
   ]
  },
  {
   "cell_type": "code",
   "execution_count": 2,
   "metadata": {
    "collapsed": false
   },
   "outputs": [
    {
     "name": "stdout",
     "output_type": "stream",
     "text": [
      "your name isabdul\n"
     ]
    }
   ],
   "source": [
    "print(\"your name is \" + name)"
   ]
  },
  {
   "cell_type": "code",
   "execution_count": 3,
   "metadata": {
    "collapsed": false
   },
   "outputs": [
    {
     "name": "stdout",
     "output_type": "stream",
     "text": [
      "enter your age20\n"
     ]
    }
   ],
   "source": [
    "age = input(\"enter your age\")"
   ]
  },
  {
   "cell_type": "code",
   "execution_count": 4,
   "metadata": {
    "collapsed": true
   },
   "outputs": [],
   "source": [
    "age =  int(age)"
   ]
  },
  {
   "cell_type": "code",
   "execution_count": 5,
   "metadata": {
    "collapsed": false
   },
   "outputs": [
    {
     "data": {
      "text/plain": [
       "20"
      ]
     },
     "execution_count": 5,
     "metadata": {},
     "output_type": "execute_result"
    }
   ],
   "source": [
    "age"
   ]
  },
  {
   "cell_type": "markdown",
   "metadata": {},
   "source": [
    "# ####(Note, you can also turn integers into strings exactly in the opposite way, using the str() function)\n",
    "\n",
    "#### Second: Do math with strings. What do I mean by that? I mean, if I want to combine (concatenate is the computer science word for this) strings, all I need to do is add them:"
   ]
  },
  {
   "cell_type": "code",
   "execution_count": 7,
   "metadata": {
    "collapsed": false
   },
   "outputs": [
    {
     "name": "stdout",
     "output_type": "stream",
     "text": [
      "werewolf\n"
     ]
    }
   ],
   "source": [
    "print(\"were\" + \"wolf\")"
   ]
  },
  {
   "cell_type": "code",
   "execution_count": 8,
   "metadata": {
    "collapsed": false
   },
   "outputs": [
    {
     "name": "stdout",
     "output_type": "stream",
     "text": [
      "Doorman\n"
     ]
    }
   ],
   "source": [
    "print(\"Door\" + \"man\")"
   ]
  },
  {
   "cell_type": "code",
   "execution_count": 9,
   "metadata": {
    "collapsed": false
   },
   "outputs": [
    {
     "data": {
      "text/plain": [
       "2"
      ]
     },
     "execution_count": 9,
     "metadata": {},
     "output_type": "execute_result"
    }
   ],
   "source": [
    "5 % 3"
   ]
  },
  {
   "cell_type": "code",
   "execution_count": 11,
   "metadata": {
    "collapsed": false
   },
   "outputs": [
    {
     "data": {
      "text/plain": [
       "1"
      ]
     },
     "execution_count": 11,
     "metadata": {},
     "output_type": "execute_result"
    }
   ],
   "source": [
    "6 % 3\n",
    "7 % 3"
   ]
  },
  {
   "cell_type": "code",
   "execution_count": 12,
   "metadata": {
    "collapsed": false
   },
   "outputs": [
    {
     "name": "stdout",
     "output_type": "stream",
     "text": [
      "can see a rated R movie\n"
     ]
    }
   ],
   "source": [
    "if age > 17: \n",
    "  print(\"can see a rated R movie\")\n",
    "elif age < 17 and age > 12:\n",
    "  print(\"can see a rated PG-13 movie\")\n",
    "else: \n",
    "  print(\"can only see rated PG movies\")"
   ]
  },
  {
   "cell_type": "markdown",
   "metadata": {},
   "source": [
    "**Checking for equality (and comparators in general)**\n",
    "A fundamental thing you want to do with your program is check whether some number is equal to another. Say the user tells you how many questions they answered incorrectly on a practice exam, and depending on the number of correctly-answered questions, you can suggest a specific course of action. For integers, strings, floats, and many other variable types, this is done with a simple syntax: ==. To explicitly check inequality, use !=."
   ]
  },
  {
   "cell_type": "code",
   "execution_count": 14,
   "metadata": {
    "collapsed": false
   },
   "outputs": [
    {
     "name": "stdout",
     "output_type": "stream",
     "text": [
      "the variable has the value 3\n"
     ]
    }
   ],
   "source": [
    "\n",
    "a=3\n",
    "if a == 3: \n",
    "  print(\"the variable has the value 3\")\n",
    "elif a != 3:\n",
    "  print(\"the variable does not have the value 3\")"
   ]
  },
  {
   "cell_type": "code",
   "execution_count": 15,
   "metadata": {
    "collapsed": false
   },
   "outputs": [
    {
     "name": "stdout",
     "output_type": "stream",
     "text": [
      "the variable has the value 3\n"
     ]
    }
   ],
   "source": [
    "if a == 3: \n",
    "  print(\"the variable has the value 3\")\n",
    "else:\n",
    "  print(\"the variable does not have the value 3\")"
   ]
  },
  {
   "cell_type": "markdown",
   "metadata": {},
   "source": [
    "***List Less Than Ten ***"
   ]
  },
  {
   "cell_type": "code",
   "execution_count": 16,
   "metadata": {
    "collapsed": true
   },
   "outputs": [],
   "source": [
    "  a = [1, 1, 2, 3, 5, 8, 13, 21, 34, 55, 89]"
   ]
  },
  {
   "cell_type": "code",
   "execution_count": 17,
   "metadata": {
    "collapsed": true
   },
   "outputs": [],
   "source": [
    "my_list = [1, 3, \"Michele\", [5, 6, 7]]"
   ]
  },
  {
   "cell_type": "code",
   "execution_count": 20,
   "metadata": {
    "collapsed": false
   },
   "outputs": [
    {
     "name": "stdout",
     "output_type": "stream",
     "text": [
      "Enter your grade: 40\n",
      "F\n"
     ]
    }
   ],
   "source": [
    "grade = input(\"Enter your grade: \")\n",
    "grade = int(grade)\n",
    "if grade >= 90:\n",
    "  print(\"A\")\n",
    "elif grade >= 80:\n",
    "  print(\"B\")\n",
    "elif grade >= 70:\n",
    "  print(\"C\")\n",
    "elif grade >= 65:\n",
    "  print(\"D\")\n",
    "else:\n",
    "  print(\"F\")"
   ]
  },
  {
   "cell_type": "code",
   "execution_count": 21,
   "metadata": {
    "collapsed": true
   },
   "outputs": [],
   "source": [
    "x = range(2, 11)"
   ]
  },
  {
   "cell_type": "code",
   "execution_count": 22,
   "metadata": {
    "collapsed": false
   },
   "outputs": [
    {
     "data": {
      "text/plain": [
       "range(2, 11)"
      ]
     },
     "execution_count": 22,
     "metadata": {},
     "output_type": "execute_result"
    }
   ],
   "source": [
    "x"
   ]
  },
  {
   "cell_type": "code",
   "execution_count": 24,
   "metadata": {
    "collapsed": false
   },
   "outputs": [
    {
     "name": "stdout",
     "output_type": "stream",
     "text": [
      "2\n",
      "3\n",
      "4\n",
      "5\n",
      "6\n",
      "7\n",
      "8\n",
      "9\n",
      "10\n"
     ]
    }
   ],
   "source": [
    "for elem in x: \n",
    "    print (elem)"
   ]
  },
  {
   "cell_type": "markdown",
   "metadata": {},
   "source": [
    "***List Overlap ***"
   ]
  },
  {
   "cell_type": "code",
   "execution_count": 26,
   "metadata": {
    "collapsed": false
   },
   "outputs": [],
   "source": [
    "a = [1, 1, 2, 3, 5, 8, 13, 21, 34, 55, 89]\n",
    "b = [1, 2, 3, 4, 5, 6, 7, 8, 9, 10, 11, 12, 13]"
   ]
  },
  {
   "cell_type": "code",
   "execution_count": 27,
   "metadata": {
    "collapsed": true
   },
   "outputs": [],
   "source": [
    "a = [5, 10, 15, 20]"
   ]
  },
  {
   "cell_type": "code",
   "execution_count": 28,
   "metadata": {
    "collapsed": false
   },
   "outputs": [
    {
     "data": {
      "text/plain": [
       "True"
      ]
     },
     "execution_count": 28,
     "metadata": {},
     "output_type": "execute_result"
    }
   ],
   "source": [
    "10 in a"
   ]
  },
  {
   "cell_type": "code",
   "execution_count": 29,
   "metadata": {
    "collapsed": false
   },
   "outputs": [
    {
     "data": {
      "text/plain": [
       "False"
      ]
     },
     "execution_count": 29,
     "metadata": {},
     "output_type": "execute_result"
    }
   ],
   "source": [
    "3 in a"
   ]
  },
  {
   "cell_type": "markdown",
   "metadata": {},
   "source": [
    "## List comprehensions"
   ]
  },
  {
   "cell_type": "code",
   "execution_count": 30,
   "metadata": {
    "collapsed": true
   },
   "outputs": [],
   "source": [
    "list_of_students = [\"Michele\", \"Sara\", \"Cassie\"]"
   ]
  },
  {
   "cell_type": "code",
   "execution_count": 32,
   "metadata": {
    "collapsed": false
   },
   "outputs": [
    {
     "name": "stdout",
     "output_type": "stream",
     "text": [
      "Type name to check: Sara\n",
      "This student is enrolled.\n"
     ]
    }
   ],
   "source": [
    "name = input(\"Type name to check: \")\n",
    "if name in list_of_students:\n",
    "    print(\"This student is enrolled.\")"
   ]
  },
  {
   "cell_type": "code",
   "execution_count": 33,
   "metadata": {
    "collapsed": true
   },
   "outputs": [],
   "source": [
    "years_of_birth = [1990, 1991, 1990, 1990, 1992, 1991]\n"
   ]
  },
  {
   "cell_type": "code",
   "execution_count": 34,
   "metadata": {
    "collapsed": true
   },
   "outputs": [],
   "source": [
    "ages = []\n",
    "for year in years_of_birth: \n",
    "    ages.append(2014 - year)"
   ]
  },
  {
   "cell_type": "code",
   "execution_count": 35,
   "metadata": {
    "collapsed": false
   },
   "outputs": [
    {
     "data": {
      "text/plain": [
       "[24, 23, 24, 24, 22, 23]"
      ]
     },
     "execution_count": 35,
     "metadata": {},
     "output_type": "execute_result"
    }
   ],
   "source": [
    "ages"
   ]
  },
  {
   "cell_type": "markdown",
   "metadata": {},
   "source": [
    "### Compare to this piece of code: "
   ]
  },
  {
   "cell_type": "code",
   "execution_count": 36,
   "metadata": {
    "collapsed": true
   },
   "outputs": [],
   "source": [
    "years_of_birth = [1990, 1991, 1990, 1990, 1992, 1991]\n",
    "ages = [2014 - year for year in years_of_birth]"
   ]
  },
  {
   "cell_type": "code",
   "execution_count": 37,
   "metadata": {
    "collapsed": false
   },
   "outputs": [
    {
     "data": {
      "text/plain": [
       "[24, 23, 24, 24, 22, 23]"
      ]
     },
     "execution_count": 37,
     "metadata": {},
     "output_type": "execute_result"
    }
   ],
   "source": [
    "ages"
   ]
  },
  {
   "cell_type": "markdown",
   "metadata": {},
   "source": [
    "### Rock Paper Scissors "
   ]
  },
  {
   "cell_type": "code",
   "execution_count": 38,
   "metadata": {
    "collapsed": false
   },
   "outputs": [
    {
     "name": "stdout",
     "output_type": "stream",
     "text": [
      "5\n",
      "4\n",
      "3\n",
      "2\n",
      "1\n"
     ]
    }
   ],
   "source": [
    "a = 5\n",
    "while (a > 0):\n",
    "    print(a)\n",
    "    a -= 1"
   ]
  },
  {
   "cell_type": "code",
   "execution_count": 40,
   "metadata": {
    "collapsed": false
   },
   "outputs": [
    {
     "name": "stdout",
     "output_type": "stream",
     "text": [
      "Type \"enter\" to quit:enter\n"
     ]
    }
   ],
   "source": [
    "quit = input('Type \"enter\" to quit:' )\n",
    "while quit != \"enter\":\n",
    "    quit = input('Type \"enter\" to quit:' )"
   ]
  },
  {
   "cell_type": "code",
   "execution_count": null,
   "metadata": {
    "collapsed": false
   },
   "outputs": [],
   "source": [
    "i = 5\n",
    "while i > 0:\n",
    "    print(\"Inside the loop\")"
   ]
  },
  {
   "cell_type": "code",
   "execution_count": null,
   "metadata": {
    "collapsed": true
   },
   "outputs": [],
   "source": [
    "while True: \n",
    "    usr_command = input(\"Enter your command: \")\n",
    "    if usr_command == \"quit\":\n",
    "      break\n",
    "    else: \n",
    "      print(\"You typed \" + usr_command)"
   ]
  },
  {
   "cell_type": "code",
   "execution_count": 1,
   "metadata": {
    "collapsed": true
   },
   "outputs": [],
   "source": [
    "x = [1, 2, 3]\n",
    "y = [5, 10, 15]\n",
    "allproducts = [a*b for a in x for b in y]"
   ]
  },
  {
   "cell_type": "code",
   "execution_count": 2,
   "metadata": {
    "collapsed": false
   },
   "outputs": [
    {
     "data": {
      "text/plain": [
       "[5, 10, 15, 10, 20, 30, 15, 30, 45]"
      ]
     },
     "execution_count": 2,
     "metadata": {},
     "output_type": "execute_result"
    }
   ],
   "source": [
    "allproducts"
   ]
  },
  {
   "cell_type": "code",
   "execution_count": 3,
   "metadata": {
    "collapsed": true
   },
   "outputs": [],
   "source": [
    "x = [1, 2, 3]\n",
    "y = [5, 10, 15]\n",
    "customlist = [a*b for a in x for b in y if a*b%2 != 0]"
   ]
  },
  {
   "cell_type": "code",
   "execution_count": 4,
   "metadata": {
    "collapsed": false
   },
   "outputs": [
    {
     "data": {
      "text/plain": [
       "[5, 15, 15, 45]"
      ]
     },
     "execution_count": 4,
     "metadata": {},
     "output_type": "execute_result"
    }
   ],
   "source": [
    "customlist"
   ]
  },
  {
   "cell_type": "code",
   "execution_count": 6,
   "metadata": {
    "collapsed": true
   },
   "outputs": [],
   "source": [
    "import random"
   ]
  },
  {
   "cell_type": "code",
   "execution_count": 7,
   "metadata": {
    "collapsed": false
   },
   "outputs": [],
   "source": [
    "a = random.sample(range(100), 5)"
   ]
  },
  {
   "cell_type": "code",
   "execution_count": 8,
   "metadata": {
    "collapsed": true
   },
   "outputs": [],
   "source": [
    "def get_integer():\n",
    "    return int(input(\"Give me a number: \"))"
   ]
  },
  {
   "cell_type": "code",
   "execution_count": 9,
   "metadata": {
    "collapsed": false
   },
   "outputs": [
    {
     "name": "stdout",
     "output_type": "stream",
     "text": [
      "Give me a number: 40\n",
      "Give me a number: 3\n",
      "You are over the age of 15\n",
      "You are in grade 3\n"
     ]
    }
   ],
   "source": [
    "age = get_integer()\n",
    "school_year = get_integer()\n",
    "if age > 15:\n",
    "    print(\"You are over the age of 15\")\n",
    "print(\"You are in grade \" + str(school_year))"
   ]
  },
  {
   "cell_type": "code",
   "execution_count": 10,
   "metadata": {
    "collapsed": false
   },
   "outputs": [
    {
     "name": "stdout",
     "output_type": "stream",
     "text": [
      "Tell me your age: 6\n",
      "What grade are you in? 5\n",
      "You are in grade 5\n"
     ]
    }
   ],
   "source": [
    "def get_integer(help_text):\n",
    "    return int(input(help_text))\n",
    "\n",
    "age = get_integer(\"Tell me your age: \")\n",
    "school_year = get_integer(\"What grade are you in? \")\n",
    "if age > 15:\n",
    "    print(\"You are over the age of 15\")\n",
    "print(\"You are in grade \" + str(school_year))"
   ]
  },
  {
   "cell_type": "markdown",
   "metadata": {},
   "source": [
    "## Sets"
   ]
  },
  {
   "cell_type": "code",
   "execution_count": 14,
   "metadata": {
    "collapsed": false
   },
   "outputs": [
    {
     "name": "stdout",
     "output_type": "stream",
     "text": [
      "{'Robin', 'Michele'}\n"
     ]
    }
   ],
   "source": [
    "names = set()\n",
    "names.add(\"Michele\")\n",
    "names.add(\"Robin\")\n",
    "names.add(\"Michele\")\n",
    "print(names)"
   ]
  },
  {
   "cell_type": "code",
   "execution_count": 15,
   "metadata": {
    "collapsed": true
   },
   "outputs": [],
   "source": [
    "listofstrings = ['a', 'b', 'c']\n",
    "result = \"**\".join(listofstrings)"
   ]
  },
  {
   "cell_type": "code",
   "execution_count": 16,
   "metadata": {
    "collapsed": false
   },
   "outputs": [
    {
     "data": {
      "text/plain": [
       "'a**b**c'"
      ]
     },
     "execution_count": 16,
     "metadata": {},
     "output_type": "execute_result"
    }
   ],
   "source": [
    "result"
   ]
  },
  {
   "cell_type": "code",
   "execution_count": 17,
   "metadata": {
    "collapsed": true
   },
   "outputs": [],
   "source": [
    "import requests"
   ]
  },
  {
   "cell_type": "code",
   "execution_count": 18,
   "metadata": {
    "collapsed": true
   },
   "outputs": [],
   "source": [
    "url = 'http://github.com'\n",
    "r = requests.get(url)\n",
    "r_html = r.text"
   ]
  },
  {
   "cell_type": "code",
   "execution_count": 22,
   "metadata": {
    "collapsed": false
   },
   "outputs": [],
   "source": [
    "from bs4 import BeautifulSoup"
   ]
  },
  {
   "cell_type": "code",
   "execution_count": 24,
   "metadata": {
    "collapsed": false
   },
   "outputs": [
    {
     "name": "stderr",
     "output_type": "stream",
     "text": [
      "C:\\Program Files\\Anaconda3\\lib\\site-packages\\bs4\\__init__.py:181: UserWarning: No parser was explicitly specified, so I'm using the best available HTML parser for this system (\"lxml\"). This usually isn't a problem, but if you run this code on another system, or in a different virtual environment, it may use a different parser and behave differently.\n",
      "\n",
      "The code that caused this warning is on line 184 of the file C:\\Program Files\\Anaconda3\\lib\\runpy.py. To get rid of this warning, change code that looks like this:\n",
      "\n",
      " BeautifulSoup([your markup])\n",
      "\n",
      "to this:\n",
      "\n",
      " BeautifulSoup([your markup], \"lxml\")\n",
      "\n",
      "  markup_type=markup_type))\n"
     ]
    },
    {
     "data": {
      "text/plain": [
       "<!DOCTYPE html>\n",
       "<html lang=\"en\">\n",
       "<head>\n",
       "<meta charset=\"utf-8\"/>\n",
       "<link href=\"https://assets-cdn.github.com\" rel=\"dns-prefetch\"/>\n",
       "<link href=\"https://avatars0.githubusercontent.com\" rel=\"dns-prefetch\"/>\n",
       "<link href=\"https://avatars1.githubusercontent.com\" rel=\"dns-prefetch\"/>\n",
       "<link href=\"https://avatars2.githubusercontent.com\" rel=\"dns-prefetch\"/>\n",
       "<link href=\"https://avatars3.githubusercontent.com\" rel=\"dns-prefetch\"/>\n",
       "<link href=\"https://github-cloud.s3.amazonaws.com\" rel=\"dns-prefetch\"/>\n",
       "<link href=\"https://user-images.githubusercontent.com/\" rel=\"dns-prefetch\"/>\n",
       "<link crossorigin=\"anonymous\" href=\"https://assets-cdn.github.com/assets/frameworks-95aff0b550d3fe338b645a4deebdcb1b.css\" integrity=\"sha512-Z0JAar9+DkI1NjGVdZr3GivARUgJtA0o2eHlTv7Ou2gshR5awWVf8QGsq11Ns9ZxQLEs+G5/SuARmvpOLMzulw==\" media=\"all\" rel=\"stylesheet\"/>\n",
       "<link crossorigin=\"anonymous\" href=\"https://assets-cdn.github.com/assets/github-abb1a335b46970a101e20cdc3aa8491d.css\" integrity=\"sha512-O27MLlTzq9rSqi8IvBSYFGuoq9hXDpVDsNVzUivfSFv+NMxqKvMAhqbrgEmvUU9MxVsZjwdSlvZRZUxN0eEIEg==\" media=\"all\" rel=\"stylesheet\"/>\n",
       "<link crossorigin=\"anonymous\" href=\"https://assets-cdn.github.com/assets/site-d3b91707396b15f2783f5f891bc6d36e.css\" integrity=\"sha512-/YdlYmXBl0rVnTX/ANGx7YStBlWdlnfFUtRTlTr8eBpzeBkOUj1GjReYy1/BdJ4wMwOXzQEri+e91nqx5xrwGg==\" media=\"all\" rel=\"stylesheet\"/>\n",
       "<meta content=\"width=device-width\" name=\"viewport\"/>\n",
       "<title>The world’s leading software development platform · GitHub</title>\n",
       "<meta content=\"GitHub brings together the world’s largest community of developers to discover, share, and build better software. From open source projects to private team repositories, we’re your all-in-one platform for collaborative development.\" name=\"description\"/>\n",
       "<link href=\"/opensearch.xml\" rel=\"search\" title=\"GitHub\" type=\"application/opensearchdescription+xml\"/>\n",
       "<link href=\"https://github.com/fluidicon.png\" rel=\"fluid-icon\" title=\"GitHub\"/>\n",
       "<meta content=\"1401488693436528\" property=\"fb:app_id\"/>\n",
       "<meta content=\"https://github.com\" property=\"og:url\"/>\n",
       "<meta content=\"GitHub\" property=\"og:site_name\"/>\n",
       "<meta content=\"Build software better, together\" property=\"og:title\"/>\n",
       "<meta content=\"GitHub is where people build software. More than 28 million people use GitHub to discover, fork, and contribute to over 85 million projects.\" property=\"og:description\"/>\n",
       "<meta content=\"https://assets-cdn.github.com/images/modules/open_graph/github-logo.png\" property=\"og:image\"/>\n",
       "<meta content=\"image/png\" property=\"og:image:type\"/>\n",
       "<meta content=\"1200\" property=\"og:image:width\"/>\n",
       "<meta content=\"1200\" property=\"og:image:height\"/>\n",
       "<meta content=\"https://assets-cdn.github.com/images/modules/open_graph/github-mark.png\" property=\"og:image\"/>\n",
       "<meta content=\"image/png\" property=\"og:image:type\"/>\n",
       "<meta content=\"1200\" property=\"og:image:width\"/>\n",
       "<meta content=\"620\" property=\"og:image:height\"/>\n",
       "<meta content=\"https://assets-cdn.github.com/images/modules/open_graph/github-octocat.png\" property=\"og:image\"/>\n",
       "<meta content=\"image/png\" property=\"og:image:type\"/>\n",
       "<meta content=\"1200\" property=\"og:image:width\"/>\n",
       "<meta content=\"620\" property=\"og:image:height\"/>\n",
       "<link href=\"https://assets-cdn.github.com/\" rel=\"assets\"/>\n",
       "<meta content=\"1000\" name=\"pjax-timeout\"/>\n",
       "<meta content=\"C7BF:648D:597B03:9FE169:5B781157\" data-pjax-transient=\"\" name=\"request-id\"/>\n",
       "<meta data-pjax-transient=\"\" name=\"selected-link\" value=\"/\"/>\n",
       "<meta content=\"KT5gs8h0wvaagLKAVWq8bbeNwnZZK1r1XQysX3xurLU\" name=\"google-site-verification\"/>\n",
       "<meta content=\"ZzhVyEFwb7w3e0-uOTltm8Jsck2F5StVihD0exw2fsA\" name=\"google-site-verification\"/>\n",
       "<meta content=\"GXs5KoUUkNCoaAZn7wPN-t01Pywp9M3sEjnt_3_ZWPc\" name=\"google-site-verification\"/>\n",
       "<meta content=\"UA-3769691-2\" name=\"google-analytics\"/>\n",
       "<meta content=\"collector.githubapp.com\" name=\"octolytics-host\"/><meta content=\"github\" name=\"octolytics-app-id\"/><meta content=\"https://collector.githubapp.com/github-external/browser_event\" name=\"octolytics-event-url\"/><meta content=\"C7BF:648D:597B03:9FE169:5B781157\" name=\"octolytics-dimension-request_id\"/><meta content=\"iad\" name=\"octolytics-dimension-region_edge\"/><meta content=\"iad\" name=\"octolytics-dimension-region_render\"/>\n",
       "<meta class=\"js-ga-set\" content=\"Logged Out\" name=\"dimension1\"/>\n",
       "<meta content=\"github.com\" name=\"hostname\"/>\n",
       "<meta content=\"\" name=\"user-login\"/>\n",
       "<meta content=\"github.com\" name=\"expected-hostname\"/>\n",
       "<meta content=\"OWMwYWY1ZWEzOTg5ODMyNmRkOTEzNDlkNGVhOTZkMTZhNDM3ZGQ1NTM5YmQ3YTgyYzg4ZTZkYTJmMGU0ZjAwYXx7InJlbW90ZV9hZGRyZXNzIjoiNDEuMjE2LjE2NS4xOCIsInJlcXVlc3RfaWQiOiJDN0JGOjY0OEQ6NTk3QjAzOjlGRTE2OTo1Qjc4MTE1NyIsInRpbWVzdGFtcCI6MTUzNDU5NTQxNiwiaG9zdCI6ImdpdGh1Yi5jb20ifQ==\" name=\"js-proxy-site-detection-payload\"/>\n",
       "<meta content=\"DASHBOARD_V2_LAYOUT_OPT_IN,EXPLORE_DISCOVER_REPOSITORIES,UNIVERSE_BANNER,FREE_TRIALS,MARKETPLACE_INSIGHTS,MARKETPLACE_PLAN_RESTRICTION_EDITOR,MARKETPLACE_SEARCH,MARKETPLACE_INSIGHTS_CONVERSION_PERCENTAGES\" name=\"enabled-features\"/>\n",
       "<meta content=\"422c66f2088b98cb7aca1036160112858c7c9f7f\" name=\"html-safe-nonce\"/>\n",
       "<meta content=\"b4c5514cf22ff0b1489d31542c162648\" http-equiv=\"x-pjax-version\"/>\n",
       "<meta content=\"width=device-width\" name=\"viewport\"/>\n",
       "<link crossorigin=\"anonymous\" href=\"https://assets-cdn.github.com/assets/site-d3b91707396b15f2783f5f891bc6d36e.css\" integrity=\"sha512-/YdlYmXBl0rVnTX/ANGx7YStBlWdlnfFUtRTlTr8eBpzeBkOUj1GjReYy1/BdJ4wMwOXzQEri+e91nqx5xrwGg==\" media=\"all\" rel=\"stylesheet\"/>\n",
       "<link data-pjax-transient=\"\" href=\"https://github.com/\" rel=\"canonical\"/>\n",
       "<meta content=\"https://api.github.com/_private/browser/stats\" name=\"browser-stats-url\"/>\n",
       "<meta content=\"https://api.github.com/_private/browser/errors\" name=\"browser-errors-url\"/>\n",
       "<link color=\"#000000\" href=\"https://assets-cdn.github.com/pinned-octocat.svg\" rel=\"mask-icon\"/>\n",
       "<link class=\"js-site-favicon\" href=\"https://assets-cdn.github.com/favicon.ico\" rel=\"icon\" type=\"image/x-icon\"/>\n",
       "<meta content=\"#1e2327\" name=\"theme-color\"/>\n",
       "<link crossorigin=\"use-credentials\" href=\"/manifest.json\" rel=\"manifest\"/>\n",
       "</head>\n",
       "<body class=\"logged-out env-production page-responsive min-width-0 f4\">\n",
       "<div class=\"position-relative js-header-wrapper \">\n",
       "<a class=\"px-2 py-4 bg-blue text-white show-on-focus js-skip-to-content\" href=\"#start-of-content\" tabindex=\"1\">Skip to content</a>\n",
       "<div class=\"pjax-loader-bar\" id=\"js-pjax-loader-bar\"><div class=\"progress\"></div></div>\n",
       "<header class=\"Header header-logged-out js-details-container Details position-relative f4 py-3\" data-ga-load=\"(Logged out) Header, view, experiment:site_header_dropdowns; group:control\" role=\"banner\">\n",
       "<div class=\"container-lg d-lg-flex p-responsive\">\n",
       "<div class=\"d-flex flex-justify-between flex-items-center\">\n",
       "<a aria-label=\"Homepage\" class=\"header-logo-invertocat my-0\" data-ga-click=\"(Logged out) Header, go to homepage, icon:logo-wordmark; experiment:site_header_dropdowns; group:control\" href=\"https://github.com/\">\n",
       "<svg aria-hidden=\"true\" class=\"octicon octicon-mark-github\" height=\"32\" version=\"1.1\" viewbox=\"0 0 16 16\" width=\"32\"><path d=\"M8 0C3.58 0 0 3.58 0 8c0 3.54 2.29 6.53 5.47 7.59.4.07.55-.17.55-.38 0-.19-.01-.82-.01-1.49-2.01.37-2.53-.49-2.69-.94-.09-.23-.48-.94-.82-1.13-.28-.15-.68-.52-.01-.53.63-.01 1.08.58 1.23.82.72 1.21 1.87.87 2.33.66.07-.52.28-.87.51-1.07-1.78-.2-3.64-.89-3.64-3.95 0-.87.31-1.59.82-2.15-.08-.2-.36-1.02.08-2.12 0 0 .67-.21 2.2.82.64-.18 1.32-.27 2-.27.68 0 1.36.09 2 .27 1.53-1.04 2.2-.82 2.2-.82.44 1.1.16 1.92.08 2.12.51.56.82 1.27.82 2.15 0 3.07-1.87 3.75-3.65 3.95.29.25.54.73.54 1.48 0 1.07-.01 1.93-.01 2.2 0 .21.15.46.55.38A8.013 8.013 0 0 0 16 8c0-4.42-3.58-8-8-8z\" fill-rule=\"evenodd\"></path></svg>\n",
       "</a>\n",
       "<div class=\"d-lg-none css-truncate css-truncate-target width-fit p-2\">\n",
       "</div>\n",
       "<button aria-expanded=\"false\" aria-label=\"Toggle navigation\" class=\"btn-link d-lg-none mt-1 js-details-target\" type=\"button\">\n",
       "<svg aria-hidden=\"true\" class=\"octicon octicon-three-bars text-white\" height=\"24\" version=\"1.1\" viewbox=\"0 0 12 16\" width=\"18\"><path d=\"M11.41 9H.59C0 9 0 8.59 0 8c0-.59 0-1 .59-1H11.4c.59 0 .59.41.59 1 0 .59 0 1-.59 1h.01zm0-4H.59C0 5 0 4.59 0 4c0-.59 0-1 .59-1H11.4c.59 0 .59.41.59 1 0 .59 0 1-.59 1h.01zM.59 11H11.4c.59 0 .59.41.59 1 0 .59 0 1-.59 1H.59C0 13 0 12.59 0 12c0-.59 0-1 .59-1z\" fill-rule=\"evenodd\"></path></svg>\n",
       "</button>\n",
       "</div>\n",
       "<div class=\"HeaderMenu d-lg-flex flex-justify-between flex-auto\">\n",
       "<nav class=\"mt-3 mt-lg-0\">\n",
       "<ul class=\"d-lg-flex list-style-none\">\n",
       "<li class=\"ml-lg-2\">\n",
       "<a class=\"js-selected-navigation-item HeaderNavlink px-0 py-3 py-lg-2 m-0\" data-ga-click=\"Header, click, Nav menu - item:features; experiment:site_header_dropdowns; group:control\" data-selected-links=\"/features /features/project-management /features/code-review /features/project-management /features/integrations /features\" href=\"/features\">\n",
       "                    Features\n",
       "</a> </li>\n",
       "<li class=\"ml-lg-4\">\n",
       "<a class=\"js-selected-navigation-item HeaderNavlink px-0 py-3 py-lg-2 m-0\" data-ga-click=\"Header, click, Nav menu - item:business; experiment:site_header_dropdowns; group:control\" data-selected-links=\"/business /business/security /business/customers /business\" href=\"/business\">\n",
       "                    Business\n",
       "</a> </li>\n",
       "<li class=\"ml-lg-4\">\n",
       "<a class=\"js-selected-navigation-item HeaderNavlink px-0 py-3 py-lg-2 m-0\" data-ga-click=\"Header, click, Nav menu - item:explore; experiment:site_header_dropdowns; group:control\" data-selected-links=\"/explore /trending /trending/developers /integrations /integrations/feature/code /integrations/feature/collaborate /integrations/feature/ship showcases showcases_search showcases_landing /explore\" href=\"/explore\">\n",
       "                    Explore\n",
       "</a> </li>\n",
       "<li class=\"ml-lg-4\">\n",
       "<a class=\"js-selected-navigation-item HeaderNavlink px-0 py-3 py-lg-2 m-0\" data-ga-click=\"Header, click, Nav menu - item:marketplace; experiment:site_header_dropdowns; group:control\" data-selected-links=\" /marketplace\" href=\"/marketplace\">\n",
       "                        Marketplace\n",
       "</a> </li>\n",
       "<li class=\"ml-lg-4\">\n",
       "<a class=\"js-selected-navigation-item HeaderNavlink px-0 py-3 py-lg-2 m-0\" data-ga-click=\"Header, click, Nav menu - item:pricing; experiment:site_header_dropdowns; group:control\" data-selected-links=\"/pricing /pricing/developer /pricing/team /pricing/business-hosted /pricing/business-enterprise /pricing\" href=\"/pricing\">\n",
       "                    Pricing\n",
       "</a> </li>\n",
       "</ul>\n",
       "</nav>\n",
       "<div class=\"d-lg-flex\">\n",
       "<div class=\"d-lg-flex flex-items-center mr-lg-3\">\n",
       "<div aria-expanded=\"true\" aria-haspopup=\"listbox\" aria-label=\"Search or jump to\" aria-owns=\"jump-to-results\" class=\"header-search js-site-search position-relative js-jump-to\" role=\"search combobox\">\n",
       "<div class=\"position-relative\">\n",
       "<!-- '\"` --><!-- </textarea></xmp> --><form accept-charset=\"UTF-8\" action=\"/search\" class=\"js-site-search-form\" data-unscoped-search-url=\"/search\" method=\"get\"><input name=\"utf8\" type=\"hidden\" value=\"✓\"/>\n",
       "<label class=\"form-control header-search-wrapper header-search-wrapper-jump-to position-relative d-flex flex-justify-between flex-items-center js-chromeless-input-container\">\n",
       "<input aria-autocomplete=\"list\" aria-controls=\"jump-to-results\" autocapitalize=\"off\" autocomplete=\"off\" class=\"form-control header-search-input jump-to-field js-jump-to-field js-site-search-focus \" data-hotkey=\"s,/\" data-jump-to-suggestions-path=\"/_graphql/GetSuggestedNavigationDestinations#csrf-token=Ms1aF+RWn46cgPE/c7bwy40OQ4fLODaGRRus8++iMTeqicGQYR09O2/6ERoCviMGrGSvJGJUV5ebIWl0gHlHQQ==\" data-scoped-placeholder=\"Search\" data-unscoped-placeholder=\"Search GitHub\" name=\"q\" placeholder=\"Search GitHub\" spellcheck=\"false\" type=\"text\" value=\"\"/>\n",
       "<input class=\"js-site-search-type-field\" name=\"type\" type=\"hidden\"/>\n",
       "<img alt=\"\" class=\"mr-2 header-search-key-slash\" src=\"https://assets-cdn.github.com/images/search-shortcut-hint.svg\"/>\n",
       "<div class=\"Box position-absolute overflow-hidden d-none jump-to-suggestions js-jump-to-suggestions-container\">\n",
       "<ul class=\"d-none js-jump-to-suggestions-template-container\">\n",
       "<li class=\"d-flex flex-justify-start flex-items-center p-0 f5 navigation-item js-navigation-item\">\n",
       "<a class=\"no-underline d-flex flex-auto flex-items-center p-2 jump-to-suggestions-path js-jump-to-suggestion-path js-navigation-open\" href=\"\" tabindex=\"-1\">\n",
       "<div class=\"jump-to-octicon js-jump-to-octicon mr-2 text-center d-none\"></div>\n",
       "<img alt=\"\" aria-label=\"Team\" class=\"avatar mr-2 flex-shrink-0 js-jump-to-suggestion-avatar\" height=\"28\" src=\"\" width=\"28\"/>\n",
       "<div class=\"jump-to-suggestion-name js-jump-to-suggestion-name flex-auto overflow-hidden text-left no-wrap css-truncate css-truncate-target\">\n",
       "</div>\n",
       "<div class=\"border rounded-1 flex-shrink-0 bg-gray px-1 text-gray-light ml-1 f6 d-none js-jump-to-badge-search\">\n",
       "<span aria-label=\"in all of GitHub\" class=\"js-jump-to-badge-search-text-default d-none\">\n",
       "                        Search\n",
       "                      </span>\n",
       "<span aria-label=\"in all of GitHub\" class=\"js-jump-to-badge-search-text-global d-none\">\n",
       "                        All GitHub\n",
       "                      </span>\n",
       "<span aria-hidden=\"true\" class=\"d-inline-block ml-1 v-align-middle\">↵</span>\n",
       "</div>\n",
       "<div aria-hidden=\"true\" class=\"border rounded-1 flex-shrink-0 bg-gray px-1 text-gray-light ml-1 f6 d-none d-on-nav-focus js-jump-to-badge-jump\">\n",
       "                      Jump to\n",
       "                      <span class=\"d-inline-block ml-1 v-align-middle\">↵</span>\n",
       "</div>\n",
       "</a>\n",
       "</li>\n",
       "<svg aria-label=\"Repository\" class=\"octicon octicon-repo flex-shrink-0 js-jump-to-repo-octicon-template\" height=\"16\" role=\"img\" title=\"Repository\" version=\"1.1\" viewbox=\"0 0 12 16\" width=\"16\"><path d=\"M4 9H3V8h1v1zm0-3H3v1h1V6zm0-2H3v1h1V4zm0-2H3v1h1V2zm8-1v12c0 .55-.45 1-1 1H6v2l-1.5-1.5L3 16v-2H1c-.55 0-1-.45-1-1V1c0-.55.45-1 1-1h10c.55 0 1 .45 1 1zm-1 10H1v2h2v-1h3v1h5v-2zm0-10H2v9h9V1z\" fill-rule=\"evenodd\"></path></svg>\n",
       "<svg aria-label=\"Project\" class=\"octicon octicon-project flex-shrink-0 js-jump-to-project-octicon-template\" height=\"16\" role=\"img\" title=\"Project\" version=\"1.1\" viewbox=\"0 0 15 16\" width=\"16\"><path d=\"M10 12h3V2h-3v10zm-4-2h3V2H6v8zm-4 4h3V2H2v12zm-1 1h13V1H1v14zM14 0H1a1 1 0 0 0-1 1v14a1 1 0 0 0 1 1h13a1 1 0 0 0 1-1V1a1 1 0 0 0-1-1z\" fill-rule=\"evenodd\"></path></svg>\n",
       "<svg aria-label=\"Search\" class=\"octicon octicon-search flex-shrink-0 js-jump-to-search-octicon-template\" height=\"16\" role=\"img\" title=\"Search\" version=\"1.1\" viewbox=\"0 0 16 16\" width=\"16\"><path d=\"M15.7 13.3l-3.81-3.83A5.93 5.93 0 0 0 13 6c0-3.31-2.69-6-6-6S1 2.69 1 6s2.69 6 6 6c1.3 0 2.48-.41 3.47-1.11l3.83 3.81c.19.2.45.3.7.3.25 0 .52-.09.7-.3a.996.996 0 0 0 0-1.41v.01zM7 10.7c-2.59 0-4.7-2.11-4.7-4.7 0-2.59 2.11-4.7 4.7-4.7 2.59 0 4.7 2.11 4.7 4.7 0 2.59-2.11 4.7-4.7 4.7z\" fill-rule=\"evenodd\"></path></svg>\n",
       "</ul>\n",
       "<ul class=\"d-none js-jump-to-no-results-template-container\">\n",
       "<li class=\"d-flex flex-justify-center flex-items-center p-3 f5 d-none\">\n",
       "<span class=\"text-gray\">No suggested jump to results</span>\n",
       "</li>\n",
       "</ul>\n",
       "<ul class=\"js-navigation-container jump-to-suggestions-results-container js-jump-to-suggestions-results-container\" id=\"jump-to-results\">\n",
       "<li class=\"d-flex flex-justify-center flex-items-center p-0 f5\">\n",
       "<img alt=\"Octocat Spinner Icon\" class=\"m-2\" src=\"https://assets-cdn.github.com/images/spinners/octocat-spinner-128.gif\" width=\"28\"/>\n",
       "</li>\n",
       "</ul>\n",
       "</div>\n",
       "</label>\n",
       "</form> </div>\n",
       "</div>\n",
       "</div>\n",
       "<span class=\"d-block d-lg-inline-block\">\n",
       "<div class=\"HeaderNavlink px-0 py-2 m-0\">\n",
       "<a class=\"text-bold text-white no-underline\" data-ga-click=\"(Logged out) Header, clicked Sign in, text:sign-in; experiment:site_header_dropdowns; group:control\" href=\"/login\">Sign in</a>\n",
       "<span class=\"text-gray\">or</span>\n",
       "<a class=\"text-bold text-white no-underline\" data-ga-click=\"(Logged out) Header, clicked Sign up, text:sign-up; experiment:site_header_dropdowns; group:control\" href=\"/join?source=experiment-header-control-home\">Sign up</a>\n",
       "</div>\n",
       "</span>\n",
       "</div>\n",
       "</div>\n",
       "</div>\n",
       "</header>\n",
       "</div>\n",
       "<div class=\"show-on-focus\" id=\"start-of-content\"></div>\n",
       "<div id=\"js-flash-container\">\n",
       "</div>\n",
       "<div class=\"application-main \" role=\"main\">\n",
       "<div class=\"py-6 py-sm-8 jumbotron-codelines\">\n",
       "<div class=\"container-lg p-responsive position-relative\">\n",
       "<div class=\"d-md-flex flex-items-center gutter-md-spacious\">\n",
       "<div class=\"col-md-7 text-center text-md-left \">\n",
       "<h1 class=\"h000-mktg text-white lh-condensed-ultra mb-3\">Built for developers</h1>\n",
       "<p class=\"lead-mktg mb-4\">\n",
       "          GitHub is a development platform inspired by the way you work. From <a class=\"text-white jumbotron-link\" href=\"/open-source\">open source</a> to <a class=\"text-white jumbotron-link\" href=\"/business\">business</a>, you can host and review code, manage projects, and build software alongside 30 million developers.\n",
       "        </p>\n",
       "</div>\n",
       "<div class=\"mx-auto col-sm-8 col-md-5 hide-sm\">\n",
       "<div class=\"rounded-1 text-gray bg-gray-light py-4 px-4 px-md-3 px-lg-4\">\n",
       "<form accept-charset=\"UTF-8\" action=\"/join\" autocomplete=\"off\" class=\"home-hero-signup js-signup-form\" method=\"post\"><input name=\"utf8\" type=\"hidden\" value=\"✓\"/><input name=\"authenticity_token\" type=\"hidden\" value=\"Y0y2qz4AK1DRqkVmBTnMzH72b9oJHLp7JKFqAUxuAzaTrXInWwQrtQ/dcxYxEU3g2tGbg+K3bvcEmz+FFRGOkg==\"/> <dl class=\"form-group mt-0\">\n",
       "<dt class=\"input-label\">\n",
       "<label class=\"form-label f5\" for=\"user[login]\">Username</label>\n",
       "</dt>\n",
       "<dd>\n",
       "<auto-check csrf=\"jdGhpndvRgeOnQkmrhQQRdFqLncvmnvs1nnQA1wlWxu7/NyGVkG5YEQTpUxtr5GwmrXTg7OSc8D2rUXfYAVyQw==\" src=\"/signup_check/username\">\n",
       "<input autofocus=\"\" class=\"form-control form-control-lg input-block\" id=\"user[login]\" name=\"user[login]\" placeholder=\"Pick a username\" type=\"text\"/>\n",
       "</auto-check>\n",
       "</dd>\n",
       "</dl>\n",
       "<dl class=\"form-group\">\n",
       "<dt class=\"input-label\">\n",
       "<label class=\"form-label f5\" for=\"user[email]\">Email</label>\n",
       "</dt>\n",
       "<dd>\n",
       "<auto-check csrf=\"eADzm5BMTd2qR5krf6yuThoTAHvxyDSF01xqS0tBo7PAqGMdHC9s3jkHPhGyXXqWR5j8fX+Ury93Ji1AV10j4A==\" src=\"/signup_check/email\">\n",
       "<input class=\"form-control form-control-lg input-block js-email-notice-trigger\" id=\"user[email]\" name=\"user[email]\" placeholder=\"you@example.com\" type=\"text\"/>\n",
       "</auto-check>\n",
       "</dd>\n",
       "</dl>\n",
       "<dl class=\"form-group\">\n",
       "<dt class=\"input-label\">\n",
       "<label class=\"form-label f5\" for=\"user[password]\">Password</label>\n",
       "</dt>\n",
       "<dd>\n",
       "<input class=\"form-control form-control-lg input-block\" id=\"user[password]\" name=\"user[password]\" placeholder=\"Create a password\" type=\"password\"/>\n",
       "</dd>\n",
       "<p class=\"form-control-note\">Use at least one letter, one numeral, and seven characters.</p>\n",
       "</dl>\n",
       "<input class=\"js-signup-source\" name=\"source\" type=\"hidden\" value=\"form-home\"/>\n",
       "<input class=\"form-control\" hidden=\"hidden\" id=\"required_field_220f\" name=\"required_field_220f\" type=\"text\"/>\n",
       "<input class=\"form-control\" name=\"timestamp\" type=\"hidden\" value=\"1534595416587\"/>\n",
       "<input class=\"form-control\" name=\"timestamp_secret\" type=\"hidden\" value=\"ce90e0c581f60ac88636fda8182114ea66b2188d3ab85d24a21e2dbb83881082\"/>\n",
       "<button class=\"btn btn-primary btn-large f4 btn-block\" data-ga-click=\"Signup, Attempt, location:jumbotron\" type=\"submit\">Sign up for GitHub</button>\n",
       "<p class=\"form-control-note mb-0 text-center\">\n",
       "                By clicking “Sign up for GitHub”, you agree to our\n",
       "                <a class=\"\" href=\"https://help.github.com/terms\" target=\"_blank\">terms of service</a> and\n",
       "                <a class=\"\" href=\"https://help.github.com/privacy\" target=\"_blank\">privacy statement</a>. <span class=\"js-email-notice\">We’ll occasionally send you account related emails.</span>\n",
       "</p>\n",
       "</form> </div>\n",
       "</div>\n",
       "<div class=\"d-sm-none text-center\">\n",
       "<a class=\"btn btn-primary btn-large border-0\" data-ga-click=\"Signup, Attempt, location:jumbotron mobile\" href=\"/join?source=button-home\" rel=\"nofollow\">Sign up for GitHub</a>\n",
       "</div>\n",
       "</div>\n",
       "</div>\n",
       "</div>\n",
       "<div class=\"signup-prompt-bg\">\n",
       "<div class=\"signup-prompt py-3\">\n",
       "<div class=\"container-lg p-responsive\">\n",
       "<div class=\"col-md-8 col-xl-10 px-4 py-5 mx-auto text-center\">\n",
       "<h1 class=\"h1-mktg\">Try GitHub Enterprise</h1>\n",
       "<p class=\"mb-3 text-gray\">\n",
       "          Use GitHub on-premises with your own servers or in a private cloud with <a data-ga-click=\"Home Enterprise prompt, click, text:GitHub Enterprise\" href=\"/pricing/enterprise\">GitHub Enterprise</a>. Improve your developer efficiency with flexible deployment options, centralized permissions, hundreds of integrations, technical support, and more.\n",
       "        </p>\n",
       "<p class=\"mb-3\">\n",
       "<a class=\"btn btn-blue btn-large\" data-ga-click=\"Home Enterprise prompt, click, text:Start your free trial\" href=\"https://enterprise.github.com/trial\">Start your free trial</a>\n",
       "</p>\n",
       "<p class=\"mb-1\">\n",
       "<a data-ga-click=\"Home Enterprise prompt, click, text:Or contact our contact sales team\" href=\"https://enterprise.github.com/contact\">Or contact our <span class=\"no-wrap\">Sales team<svg aria-hidden=\"true\" class=\"octicon octicon-chevron-right ml-2 v-align-text-bottom\" height=\"16\" version=\"1.1\" viewbox=\"0 0 8 16\" width=\"8\"><path d=\"M7.5 8l-5 5L1 11.5 4.75 8 1 4.5 2.5 3l5 5z\" fill-rule=\"evenodd\"></path></svg></span></a>\n",
       "</p>\n",
       "</div>\n",
       "</div>\n",
       "</div>\n",
       "</div>\n",
       "<div class=\"container-lg p-responsive\">\n",
       "<div class=\"text-center py-7 py-md-8 py-lg-9 \">\n",
       "<h3 class=\"h3-mktg text-normal text-gray-light mb-4 lh-condensed\">\n",
       "      More than 1.8 million businesses and organizations use GitHub\n",
       "    </h3>\n",
       "<ul class=\"d-flex flex-justify-center flex-items-center flex-wrap list-style-none mt-2 mt-md-3 grayscale\">\n",
       "<li><img alt=\"Airbnb\" class=\"logo-img-sm px-2 px-sm-4 px-md-5 my-md-3\" src=\"https://assets-cdn.github.com/images/modules/site/logos/airbnb-logo.png\"/></li>\n",
       "<li><img alt=\"SAP\" class=\"logo-img-sm px-2 px-sm-4 px-md-5 my-md-3\" src=\"https://assets-cdn.github.com/images/modules/site/logos/sap-logo.png\"/></li>\n",
       "<li><img alt=\"IBM\" class=\"logo-img-sm px-2 px-sm-4 px-md-5 my-md-3\" src=\"https://assets-cdn.github.com/images/modules/site/logos/ibm-logo.png\"/></li>\n",
       "<li><img alt=\"Google\" class=\"logo-img-sm px-2 px-sm-4 px-md-5 my-md-3\" src=\"https://assets-cdn.github.com/images/modules/site/logos/google-logo.png\"/></li>\n",
       "<li><img alt=\"PayPal\" class=\"logo-img-sm px-2 px-sm-4 px-md-5 my-md-3\" src=\"https://assets-cdn.github.com/images/modules/site/logos/paypal-logo.png\"/></li>\n",
       "<li><img alt=\"Bloomberg\" class=\"logo-img-sm px-2 px-sm-4 px-md-5 my-md-3\" src=\"https://assets-cdn.github.com/images/modules/site/logos/bloomberg-logo.png\"/></li>\n",
       "<li><img alt=\"Spotify\" class=\"logo-img-sm px-2 px-sm-4 px-md-5 my-md-3\" src=\"https://assets-cdn.github.com/images/modules/site/logos/spotify-logo.png\"/></li>\n",
       "<li><img alt=\"Swift\" class=\"logo-img-sm px-2 px-sm-4 px-md-5 my-md-3\" src=\"https://assets-cdn.github.com/images/modules/site/logos/swift-logo.png\"/></li>\n",
       "<li><img alt=\"Rails\" class=\"logo-img-sm px-2 px-sm-4 px-md-5 my-md-3\" src=\"https://assets-cdn.github.com/images/modules/site/logos/facebook-logo.png\"/></li>\n",
       "<li><img alt=\"Node\" class=\"logo-img-sm px-2 px-sm-4 px-md-5 my-md-3\" src=\"https://assets-cdn.github.com/images/modules/site/logos/node-logo.png\"/></li>\n",
       "<li><img alt=\"Nasa\" class=\"logo-img-sm px-2 px-sm-4 px-md-5 my-md-3\" src=\"https://assets-cdn.github.com/images/modules/site/logos/nasa-logo.png\"/></li>\n",
       "<li><img alt=\"Walmart\" class=\"logo-img-sm px-2 px-sm-4 px-md-5 my-md-3\" src=\"https://assets-cdn.github.com/images/modules/site/logos/walmart-logo.png\"/></li>\n",
       "</ul>\n",
       "</div>\n",
       "</div>\n",
       "<div class=\"py-7 py-md-8 py-lg-9 border-top\">\n",
       "<div class=\"container-lg p-responsive pb-6\">\n",
       "<h6 class=\"h4 text-mono text-normal text-gray text-center\">\n",
       "      GitHub for teams\n",
       "    </h6>\n",
       "<h2 class=\"h00-mktg lh-condensed mt-3 mb-2 text-center\">\n",
       "      A better way to work together\n",
       "    </h2>\n",
       "<p class=\"lead-mktg text-gray text-center col-md-8 mx-auto mb-4\">\n",
       "      GitHub brings teams together to work through problems, move ideas forward, and learn from each other along the way.\n",
       "    </p>\n",
       "<div class=\"text-center\">\n",
       "<a class=\"btn btn-large btn-outline\" data-ga-click=\"Signup, Attempt, location:home teams\" href=\"/join?plan=business&amp;setup_organization=true&amp;source=business-page\">Sign up your team</a>\n",
       "</div>\n",
       "</div>\n",
       "<div class=\"container-xl p-responsive\">\n",
       "<div class=\"position-relative overflow-hidden d-lg-flex pt-6\">\n",
       "<div class=\"col-10 col-sm-7 mx-auto mx-lg-6 mb-sm-3\">\n",
       "<img alt=\"\" class=\"d-block width-fit mx-auto\" src=\"https://assets-cdn.github.com/images/modules/site/home-illo-team.svg\"/>\n",
       "</div>\n",
       "<div class=\"col-lg-5\">\n",
       "<a class=\"summarylink\" href=\"/features/code-review\">\n",
       "<div class=\"summarylink-illustration\">\n",
       "<img alt=\"\" class=\"width-fit mx-auto\" src=\"https://assets-cdn.github.com/images/modules/site/home-illo-team-code.svg\"/>\n",
       "</div>\n",
       "<div class=\"summarylink-btn d-flex flex-justify-between flex-items-center f5 text-gray-dark rounded-1 p-sm-4 my-4 my-sm-0\">\n",
       "<div class=\"col-10\">\n",
       "<h3 class=\"h3-mktg text-normal mb-1\">Write better code</h3>\n",
       "<p class=\"text-gray mb-0\">Collaboration makes perfect. The conversations and code reviews that happen in Pull Requests help your team share the weight of your work and improve the software you build. <span class=\"text-blue\">Learn about code review.</span></p>\n",
       "</div>\n",
       "<svg aria-hidden=\"true\" class=\"octicon octicon-triangle-right text-blue\" height=\"16\" version=\"1.1\" viewbox=\"0 0 6 16\" width=\"6\"><path d=\"M0 14l6-6-6-6v12z\" fill-rule=\"evenodd\"></path></svg>\n",
       "</div>\n",
       "</a>\n",
       "<a class=\"summarylink\" href=\"/features/project-management\">\n",
       "<div class=\"summarylink-illustration\">\n",
       "<img alt=\"\" class=\"width-fit mx-auto\" src=\"https://assets-cdn.github.com/images/modules/site/home-illo-team-chaos.svg\"/>\n",
       "</div>\n",
       "<div class=\"summarylink-btn d-flex flex-justify-between flex-items-center f5 text-gray-dark rounded-1 p-sm-4 my-4 my-sm-0\">\n",
       "<div class=\"col-10\">\n",
       "<h3 class=\"h3-mktg text-normal mb-1\">Manage your chaos</h3>\n",
       "<p class=\"text-gray mb-0\">Take a deep breath. On GitHub, project management happens in Issues and Projects, right alongside your code. All you have to do is mention a teammate to get them involved. <span class=\"text-blue\">Learn about project management.</span></p>\n",
       "</div>\n",
       "<svg aria-hidden=\"true\" class=\"octicon octicon-triangle-right text-blue\" height=\"16\" version=\"1.1\" viewbox=\"0 0 6 16\" width=\"6\"><path d=\"M0 14l6-6-6-6v12z\" fill-rule=\"evenodd\"></path></svg>\n",
       "</div>\n",
       "</a>\n",
       "<a class=\"summarylink\" href=\"/features/integrations\">\n",
       "<div class=\"summarylink-illustration\">\n",
       "<img alt=\"\" class=\"width-fit mx-auto\" src=\"https://assets-cdn.github.com/images/modules/site/home-illo-team-tools.svg\"/>\n",
       "</div>\n",
       "<div class=\"summarylink-btn d-flex flex-justify-between flex-items-center f5 text-gray-dark rounded-1 p-sm-4 my-4 my-sm-0\">\n",
       "<div class=\"col-10\">\n",
       "<h3 class=\"h3-mktg text-normal mb-1\">Find the right tools</h3>\n",
       "<p class=\"text-gray mb-0\">Browse and buy apps from GitHub Marketplace with your GitHub account. Find the tools you like or discover new favorites—then start using them in minutes. <span class=\"text-blue\">Learn about integrations.</span></p>\n",
       "</div>\n",
       "<svg aria-hidden=\"true\" class=\"octicon octicon-triangle-right text-blue\" height=\"16\" version=\"1.1\" viewbox=\"0 0 6 16\" width=\"6\"><path d=\"M0 14l6-6-6-6v12z\" fill-rule=\"evenodd\"></path></svg>\n",
       "</div>\n",
       "</a>\n",
       "</div>\n",
       "</div>\n",
       "</div>\n",
       "</div>\n",
       "<div class=\"py-7 py-md-8 py-lg-9 border-top\">\n",
       "<div class=\"container-lg p-responsive\">\n",
       "<h6 class=\"h4 text-mono text-normal text-gray text-center\">\n",
       "      Security and administration\n",
       "    </h6>\n",
       "<h2 class=\"h00-mktg mt-3 mb-2 text-center\">\n",
       "      Boxes? Check.\n",
       "    </h2>\n",
       "<p class=\"lead-mktg text-gray text-center col-md-8 mx-auto mb-4\">\n",
       "      We worry about your administrative and security needs so you don’t have to. From flexible hosting to authentication options, GitHub can help you meet your team’s requirements.\n",
       "    </p>\n",
       "<p class=\"text-center mb-5\">\n",
       "<a class=\"btn btn-large btn-outline mx-auto\" href=\"/business\">\n",
       "<span class=\"d-sm-none\">How GitHub works for businesses</span>\n",
       "<span class=\"d-none d-sm-inline\">See how GitHub works for businesses</span>\n",
       "</a>\n",
       "</p>\n",
       "<div class=\"d-md-flex flex-items-center flex-row-reverse mt-6 mb-3\">\n",
       "<div class=\"col-md-6 mx-auto px-5 pr-md-0 text-center\">\n",
       "<img alt=\"Security and administration\" class=\"width-fit mb-4\" src=\"https://assets-cdn.github.com/images/modules/site/home-illo-business.png\"/>\n",
       "</div>\n",
       "<div class=\"col-md-6 mx-auto text-md-left f5 p-sm-6\">\n",
       "<h3 class=\"h3-mktg text-normal mb-1\">Code security</h3>\n",
       "<p class=\"text-gray mb-3 mb-md-5\">\n",
       "          Prevent problems before they happen. Protected branches, signed commits, and required status checks protect your work and help you maintain a high standard for your code.\n",
       "        </p>\n",
       "<h3 class=\"h3-mktg text-normal mb-1 mt-sm-6\">Access controlled</h3>\n",
       "<p class=\"text-gray mb-3 mb-md-5\">\n",
       "          Encourage teams to work together while limiting access to those who need it with granular permissions and authentication through SAML/SSO and LDAP.\n",
       "        </p>\n",
       "</div>\n",
       "</div>\n",
       "<div class=\"col-md-7 mx-auto clearfix p-4 border rounded-1 pt-5\">\n",
       "<div class=\"float-left\">\n",
       "<svg class=\"mr-4\" viewbox=\"0 0 64 64\" width=\"64px\" xmlns=\"http://www.w3.org/2000/svg\"><title>1clr-code-hosting</title><path d=\"M27 13h-9a1 1 0 0 0 0 2h9a1 1 0 0 0 0-2zM42 12a1 1 0 0 0-1 1v2a1 1 0 0 0 2 0v-2a1 1 0 0 0-1-1zM46 12a1 1 0 0 0-1 1v2a1 1 0 0 0 2 0v-2a1 1 0 0 0-1-1zM27 28h-9a1 1 0 0 0 0 2h9a1 1 0 0 0 0-2zM42 31a1 1 0 0 0 1-1v-2a1 1 0 0 0-2 0v2a1 1 0 0 0 1 1zM46 31a1 1 0 0 0 1-1v-2a1 1 0 0 0-2 0v2a1 1 0 0 0 1 1z\" fill=\"#23292f\"></path><path d=\"M50 44h-1a13 13 0 0 0-4.68-9H48a3 3 0 0 0 3-3v-6a3 3 0 0 0-3-3h-5v-3h5a3 3 0 0 0 3-3v-6a3 3 0 0 0-3-3H16a3 3 0 0 0-3 3v6a3 3 0 0 0 3 3h5v3h-5a3 3 0 0 0-3 3v6a3 3 0 0 0 3 3h11.72a13 13 0 0 0-3.79 5.21A7 7 0 0 0 13.28 44 6 6 0 0 0 14 56h36a6 6 0 0 0 0-12zM15 17v-6a1 1 0 0 1 1-1h32a1 1 0 0 1 1 1v6a1 1 0 0 1-1 1H16a1 1 0 0 1-1-1zm8 3h18v3H23zm-7 13a1 1 0 0 1-1-1v-6a1 1 0 0 1 1-1h32a1 1 0 0 1 1 1v6a1 1 0 0 1-1 1h-7a12.9 12.9 0 0 0-10 0H16zm34 21H14a4 4 0 1 1 .09-8 1 1 0 0 0 1-.83 5 5 0 0 1 8.6-2.55 1 1 0 0 0 1.7-.42A11 11 0 0 1 47 45a1 1 0 0 0 1 1h2a4 4 0 0 1 0 8z\" fill=\"#23292f\"></path></svg>\n",
       "</div>\n",
       "<div class=\"overflow-hidden\">\n",
       "<h4 class=\"h4-mktg\">Hosted where you need it</h4>\n",
       "<p class=\"f5 text-gray mr-2\">Securely and reliably host your work on GitHub.com. Or, deploy GitHub Enterprise on your own servers or in a private cloud using Amazon Web Services, Azure or Google Cloud Platform.</p>\n",
       "<p>\n",
       "<a href=\"/pricing\">Compare plans<span class=\"no-wrap\"><svg aria-hidden=\"true\" class=\"octicon octicon-chevron-right ml-2 v-align-text-bottom\" height=\"16\" version=\"1.1\" viewbox=\"0 0 8 16\" width=\"8\"><path d=\"M7.5 8l-5 5L1 11.5 4.75 8 1 4.5 2.5 3l5 5z\" fill-rule=\"evenodd\"></path></svg></span></a>\n",
       "</p>\n",
       "</div>\n",
       "</div>\n",
       "</div>\n",
       "</div>\n",
       "<div class=\"py-7 py-md-8 py-lg-9 border-top\">\n",
       "<div class=\"container-lg p-responsive text-center\">\n",
       "<div class=\"col-md-8 py-md-6 mx-auto\">\n",
       "<h6 class=\"h4 text-mono text-normal text-gray\">\n",
       "        Integrations\n",
       "      </h6>\n",
       "<h2 class=\"h00-mktg lh-condensed mt-3 mb-2\">\n",
       "        Build on GitHub\n",
       "      </h2>\n",
       "<p class=\"lead-mktg text-gray mb-4 px-md-3\">\n",
       "        Customize your process with GitHub apps and an intuitive API. Integrate the tools you already use or discover new favorites to create a happier, more efficient way of working.\n",
       "      </p>\n",
       "<p class=\"f4 text-center mb-6\">\n",
       "<a class=\"btn btn-large btn-outline mx-auto\" href=\"/features/integrations\">Learn about integrations</a>\n",
       "</p>\n",
       "</div>\n",
       "<div class=\"apps-cluster d-flex flex-wrap flex-justify-center pb-6\">\n",
       "<div aria-label=\"Slack\" class=\"CircleBadge CircleBadge--medium CircleBadge--feature tooltipped tooltipped-s tooltipped-no-delay\" style=\"background-color: #553958;\"><img alt=\"Slack\" class=\"CircleBadge-icon\" src=\"https://assets-cdn.github.com/images/modules/site/integrators/slackhq.png\"/></div>\n",
       "<div aria-label=\"ZenHub\" class=\"CircleBadge CircleBadge--medium CircleBadge--feature tooltipped tooltipped-s tooltipped-no-delay\" style=\"background-color: #364e98;\"><img alt=\"ZenHub\" class=\"CircleBadge-icon\" src=\"https://assets-cdn.github.com/images/modules/site/integrators/zenhubio.png\"/></div>\n",
       "<div aria-label=\"Travis CI\" class=\"CircleBadge CircleBadge--medium CircleBadge--feature tooltipped tooltipped-s tooltipped-no-delay\" style=\"background-color: #eff9f9;\"><img alt=\"Travis CI\" class=\"CircleBadge-icon\" src=\"https://assets-cdn.github.com/images/modules/site/integrators/travis-ci.png\"/></div>\n",
       "<div aria-label=\"Atom\" class=\"CircleBadge CircleBadge--medium CircleBadge--feature tooltipped tooltipped-s tooltipped-no-delay\" style=\"background-color: #5fb57d;\"><img alt=\"Atom\" class=\"CircleBadge-icon\" src=\"https://assets-cdn.github.com/images/modules/site/integrators/atom.png\"/></div>\n",
       "<div aria-label=\"Circle CI\" class=\"CircleBadge CircleBadge--medium CircleBadge--feature tooltipped tooltipped-s tooltipped-no-delay\" style=\"background-color: #022531;\"><img alt=\"Circle CI\" class=\"CircleBadge-icon\" src=\"https://assets-cdn.github.com/images/modules/site/integrators/circleci.png\"/></div>\n",
       "<div aria-label=\"Google\" class=\"CircleBadge CircleBadge--medium CircleBadge--feature tooltipped tooltipped-s tooltipped-no-delay\" style=\"background-color: #f2f2f2;\"><img alt=\"Google\" class=\"CircleBadge-icon\" src=\"https://assets-cdn.github.com/images/modules/site/integrators/google.png\"/></div>\n",
       "<div aria-label=\"Code Climate\" class=\"CircleBadge CircleBadge--medium CircleBadge--feature hide-sm tooltipped tooltipped-s tooltipped-no-delay\" style=\"background-color: #303030;\"><img alt=\"Code Climate\" class=\"CircleBadge-icon\" src=\"https://assets-cdn.github.com/images/modules/site/integrators/codeclimate.png\"/></div>\n",
       "</div>\n",
       "<div class=\"col-md-8 py-md-6 mx-auto\">\n",
       "<p class=\"my-2 alt-text-small col-sm-8 col-md-6 mx-auto text-gray\">\n",
       "        Sometimes, there’s more than one tool for the job. Why not try something new?\n",
       "      </p>\n",
       "<p>\n",
       "<a href=\"/marketplace\">Browse GitHub <span class=\"no-wrap\">Marketplace<svg aria-hidden=\"true\" class=\"octicon octicon-chevron-right ml-2 v-align-text-bottom\" height=\"16\" version=\"1.1\" viewbox=\"0 0 8 16\" width=\"8\"><path d=\"M7.5 8l-5 5L1 11.5 4.75 8 1 4.5 2.5 3l5 5z\" fill-rule=\"evenodd\"></path></svg></span></a>\n",
       "</p>\n",
       "</div>\n",
       "</div>\n",
       "</div>\n",
       "<div class=\"py-7 py-md-8 py-lg-9 border-top\">\n",
       "<div class=\"container-lg p-responsive\">\n",
       "<h6 class=\"h4 text-mono text-normal text-gray text-center\">\n",
       "      Community\n",
       "    </h6>\n",
       "<h2 class=\"h00-mktg mt-3 mb-4 lh-condensed text-center\">\n",
       "      Welcome home, <br/>developers\n",
       "    </h2>\n",
       "<p class=\"lead-mktg text-gray text-center col-md-8 mx-auto\">\n",
       "        GitHub is home to the world’s largest community of developers and their projects...\n",
       "      </p>\n",
       "</div>\n",
       "<div class=\"d-flex flex-nowrap flex-items-stretch flex-lg-items-start overflow-auto px-2 py-6 my-6\">\n",
       "<article class=\"Story Story--large Story--stagger col-6 col-sm-3 p-2\">\n",
       "<a class=\"Story-link d-block d-lg-flex height-full rounded-1 box-shadow-extra-large\" href=\" /open-source/stories/ariya \">\n",
       "<div class=\"col-lg-6 position-relative\">\n",
       "<img class=\"d-block width-full\" src=\"https://assets-cdn.github.com/images/modules/site/stories/developers/ariya.png\"/>\n",
       "</div>\n",
       "<div class=\"d-lg-flex flex-items-center col-lg-6\">\n",
       "<div class=\"width-full text-center p-3 py-lg-0\">\n",
       "<h1 class=\"Story-title h3-mktg text-normal link-gray-dark lh-condensed mb-1\">Ariya Hidayat</h1>\n",
       "<p class=\"f6 text-mono text-gray\">\n",
       "            PhantomJS maintainer\n",
       "        </p>\n",
       "</div>\n",
       "</div>\n",
       "</a>\n",
       "</article>\n",
       "<article class=\"Story Story--large Story--stagger col-6 col-sm-3 p-2\">\n",
       "<a class=\"Story-link d-block d-lg-flex height-full rounded-1 box-shadow-extra-large\" href=\" /open-source/stories/freakboy3742 \">\n",
       "<div class=\"col-lg-6 position-relative\">\n",
       "<img class=\"d-block width-full\" src=\"https://assets-cdn.github.com/images/modules/site/stories/developers/freakboy3742.png\"/>\n",
       "</div>\n",
       "<div class=\"d-lg-flex flex-items-center col-lg-6\">\n",
       "<div class=\"width-full text-center p-3 py-lg-0\">\n",
       "<h1 class=\"Story-title h3-mktg text-normal link-gray-dark lh-condensed mb-1\">Russell Keith-Magee</h1>\n",
       "<p class=\"f6 text-mono text-gray\">\n",
       "            PyBee maintainer\n",
       "        </p>\n",
       "</div>\n",
       "</div>\n",
       "</a>\n",
       "</article>\n",
       "<article class=\"Story Story--large Story--stagger col-6 col-sm-3 p-2\">\n",
       "<a class=\"Story-link Story-link--customer d-block d-lg-flex height-full rounded-1 box-shadow-extra-large\" href=\" /business/customers/mailchimp \">\n",
       "<div class=\"col-lg-6 position-relative\">\n",
       "<img class=\"d-block width-full\" src=\"https://assets-cdn.github.com/images/modules/site/stories/customers/mailchimp.png\"/>\n",
       "</div>\n",
       "<div class=\"d-lg-flex flex-items-center col-lg-6\">\n",
       "<div class=\"width-full text-center p-3 py-lg-0\">\n",
       "<h1 class=\"Story-title h3-mktg text-normal link-gray-dark lh-condensed mb-1\">MailChimp</h1>\n",
       "<p class=\"f6 text-mono text-gray\">\n",
       "            Marketing customer\n",
       "        </p>\n",
       "</div>\n",
       "</div>\n",
       "</a>\n",
       "</article>\n",
       "<article class=\"Story Story--large Story--stagger col-6 col-sm-3 p-2\">\n",
       "<a class=\"Story-link d-block d-lg-flex height-full rounded-1 box-shadow-extra-large\" href=\" /open-source/stories/kris-nova \">\n",
       "<div class=\"col-lg-6 position-relative\">\n",
       "<img class=\"d-block width-full\" src=\"https://assets-cdn.github.com/images/modules/site/stories/developers/kris-nova.png\"/>\n",
       "</div>\n",
       "<div class=\"d-lg-flex flex-items-center col-lg-6\">\n",
       "<div class=\"width-full text-center p-3 py-lg-0\">\n",
       "<h1 class=\"Story-title h3-mktg text-normal link-gray-dark lh-condensed mb-1\">Kris Nova</h1>\n",
       "<p class=\"f6 text-mono text-gray\">\n",
       "            Kubernetes/kops maintainer\n",
       "        </p>\n",
       "</div>\n",
       "</div>\n",
       "</a>\n",
       "</article>\n",
       "<article class=\"Story Story--large Story--stagger col-6 col-sm-3 p-2\">\n",
       "<a class=\"Story-link d-block d-lg-flex height-full rounded-1 box-shadow-extra-large\" href=\" /open-source/stories/yyx990803 \">\n",
       "<div class=\"col-lg-6 position-relative\">\n",
       "<img class=\"d-block width-full\" src=\"https://assets-cdn.github.com/images/modules/site/stories/developers/yyx990803.png\"/>\n",
       "</div>\n",
       "<div class=\"d-lg-flex flex-items-center col-lg-6\">\n",
       "<div class=\"width-full text-center p-3 py-lg-0\">\n",
       "<h1 class=\"Story-title h3-mktg text-normal link-gray-dark lh-condensed mb-1\">Evan You</h1>\n",
       "<p class=\"f6 text-mono text-gray\">\n",
       "            Vue maintainer\n",
       "        </p>\n",
       "</div>\n",
       "</div>\n",
       "</a>\n",
       "</article>\n",
       "<article class=\"Story Story--large Story--stagger col-6 col-sm-3 p-2\">\n",
       "<a class=\"Story-link Story-link--customer d-block d-lg-flex height-full rounded-1 box-shadow-extra-large\" href=\" /business/customers/mapbox \">\n",
       "<div class=\"col-lg-6 position-relative\">\n",
       "<img class=\"d-block width-full\" src=\"https://assets-cdn.github.com/images/modules/site/stories/customers/mapbox.png\"/>\n",
       "</div>\n",
       "<div class=\"d-lg-flex flex-items-center col-lg-6\">\n",
       "<div class=\"width-full text-center p-3 py-lg-0\">\n",
       "<h1 class=\"Story-title h3-mktg text-normal link-gray-dark lh-condensed mb-1\">Mapbox</h1>\n",
       "<p class=\"f6 text-mono text-gray\">\n",
       "            Software customer\n",
       "        </p>\n",
       "</div>\n",
       "</div>\n",
       "</a>\n",
       "</article>\n",
       "<article class=\"Story Story--large Story--stagger col-6 col-sm-3 p-2\">\n",
       "<a class=\"Story-link d-block d-lg-flex height-full rounded-1 box-shadow-extra-large\" href=\" /open-source/stories/jessfraz \">\n",
       "<div class=\"col-lg-6 position-relative\">\n",
       "<img class=\"d-block width-full\" src=\"https://assets-cdn.github.com/images/modules/site/stories/developers/jessfraz.png\"/>\n",
       "</div>\n",
       "<div class=\"d-lg-flex flex-items-center col-lg-6\">\n",
       "<div class=\"width-full text-center p-3 py-lg-0\">\n",
       "<h1 class=\"Story-title h3-mktg text-normal link-gray-dark lh-condensed mb-1\">Jess Frazelle</h1>\n",
       "<p class=\"f6 text-mono text-gray\">\n",
       "            Kubernetes, previously Docker maintainer\n",
       "        </p>\n",
       "</div>\n",
       "</div>\n",
       "</a>\n",
       "</article>\n",
       "</div>\n",
       "<div class=\"container-lg p-responsive\">\n",
       "<p class=\"lead-mktg text-gray text-center col-md-8 mx-auto pb-md-6\">\n",
       "        ...whether you’re making your first commit or sending a Rover to Mars, there’s room for you here, too.\n",
       "      </p>\n",
       "<div class=\"gutter-md\">\n",
       "<div class=\"communitystats position-relative\">\n",
       "<a class=\"d-inline-block summarylink\" href=\"/open-source\">\n",
       "<div class=\"circle d-flex flex-column flex-justify-center text-center p-4 mx-auto mt-6 mb-3 m-md-3 bg-orange box-shadow-extra-large\">\n",
       "<span class=\"d-block h0-mktg text-normal text-white lh-condensed-ultra mb-2\">85M<sup class=\"f2-light\">*</sup></span>\n",
       "<span class=\"f6 text-white\">repositories worldwide</span>\n",
       "</div>\n",
       "<div class=\"summarylink-btn d-flex flex-justify-between flex-items-center f5 text-gray-dark rounded-1 p-sm-4\">\n",
       "<p class=\"col-10 mb-0\">GitHub’s users create and maintain influential technologies alongside the world’s largest <span class=\"text-orange-light\">open source community</span>.</p>\n",
       "<svg aria-hidden=\"true\" class=\"octicon octicon-triangle-right text-orange-light\" height=\"16\" version=\"1.1\" viewbox=\"0 0 6 16\" width=\"6\"><path d=\"M0 14l6-6-6-6v12z\" fill-rule=\"evenodd\"></path></svg>\n",
       "</div>\n",
       "</a>\n",
       "<a class=\"d-inline-block summarylink\" href=\"/personal\">\n",
       "<div class=\"circle d-flex flex-column flex-justify-center text-center p-4 mx-auto mt-6 mb-3 m-md-3 bg-blue box-shadow-extra-large\">\n",
       "<span class=\"d-block h0-mktg text-normal text-white lh-condensed-ultra mb-2\">28M<sup class=\"f2-light\">*</sup></span>\n",
       "<span class=\"f6 text-white\">developers worldwide</span>\n",
       "</div>\n",
       "<div class=\"summarylink-btn d-flex flex-justify-between flex-items-center f5 text-gray-dark rounded-1 p-sm-4\">\n",
       "<p class=\"col-10 mb-0\"><span class=\"text-blue\">Developers</span> use GitHub for personal projects, from experimenting with new programming languages to hosting their life’s work.</p>\n",
       "<svg aria-hidden=\"true\" class=\"octicon octicon-triangle-right text-blue\" height=\"16\" version=\"1.1\" viewbox=\"0 0 6 16\" width=\"6\"><path d=\"M0 14l6-6-6-6v12z\" fill-rule=\"evenodd\"></path></svg>\n",
       "</div>\n",
       "</a>\n",
       "<a class=\"d-inline-block summarylink\" href=\"/business\">\n",
       "<div class=\"circle d-flex flex-column flex-justify-center text-center p-4 mx-auto mt-6 mb-3 m-md-3 bg-purple box-shadow-extra-large\">\n",
       "<span class=\"d-block h1-mktg text-normal text-white lh-condensed-ultra my-2\">1.8M<sup class=\"f3-light\">*</sup></span>\n",
       "<span class=\"f6 text-white\">businesses and organizations worldwide</span>\n",
       "</div>\n",
       "<div class=\"summarylink-btn d-flex flex-justify-between flex-items-center f5 text-gray-dark rounded-1 p-sm-4\">\n",
       "<p class=\"col-10 mb-0\"><span class=\"text-purple\">Businesses</span> of all sizes use GitHub to support their development process and to securely build software.</p>\n",
       "<svg aria-hidden=\"true\" class=\"octicon octicon-triangle-right text-purple\" height=\"16\" version=\"1.1\" viewbox=\"0 0 6 16\" width=\"6\"><path d=\"M0 14l6-6-6-6v12z\" fill-rule=\"evenodd\"></path></svg>\n",
       "</div>\n",
       "</a>\n",
       "<div class=\"mt-6 ml-md-4 text-gray-light f6\">\n",
       "          * As of June 2018\n",
       "        </div>\n",
       "</div>\n",
       "</div>\n",
       "</div>\n",
       "</div>\n",
       "<div class=\"py-7 py-md-8 py-lg-9 bg-gray-dark\">\n",
       "<div class=\"container-lg p-responsive text-white text-center\">\n",
       "<h2 class=\"h1-mktg text-normal\">\n",
       "        Get started for free — join the millions of developers already using GitHub to share their code, work together, and build amazing things.\n",
       "      </h2>\n",
       "</div>\n",
       "<div class=\"container-xl p-responsive py-6 mt-lg-6\">\n",
       "<form accept-charset=\"UTF-8\" action=\"/join\" autocomplete=\"off\" class=\"home-hero-signup js-signup-form\" method=\"post\"><input name=\"utf8\" type=\"hidden\" value=\"✓\"/><input name=\"authenticity_token\" type=\"hidden\" value=\"qaTh1Jkp/nPX9HgBxUwSbXCZXyzOobNOF50hF45QR/dZRSVY/C3+lgmDTnHxZJNB1L6rdSUKZ8I3p3ST1y/KUw==\"/> <div class=\"d-lg-flex flex-wrap flex-lg-nowrap flex-justify-between\">\n",
       "<dl class=\"form-group col-12 col-sm-8 col-lg-3 mx-auto mt-0 mx-lg-0 mb-3 mb-lg-0 px-3\">\n",
       "<dt class=\"input-label sr-only\">\n",
       "<label class=\"form-label text-gray f5\" for=\"user[login]-footer\">Username</label>\n",
       "</dt>\n",
       "<dd>\n",
       "<auto-check csrf=\"gsBtTk7zmMyPGTcIXO8UClwPMBKs2VjD+BljzraNEm+07RBub91nq0WXm2KfVJX/F9DN5jDRUO/YzfYSiq07Nw==\" src=\"/signup_check/username\">\n",
       "<input class=\"form-control form-control-lg input-block input-lg\" id=\"user[login]-footer\" name=\"user[login]\" placeholder=\"Pick a username\" type=\"text\"/>\n",
       "</auto-check>\n",
       "</dd>\n",
       "</dl>\n",
       "<dl class=\"form-group col-12 col-sm-8 col-lg-3 mx-auto mt-0 mx-lg-0 mb-3 mb-lg-0 px-3\">\n",
       "<dt class=\"input-label sr-only\">\n",
       "<label class=\"form-label text-gray f5\" for=\"user[email]-footer\">Email</label>\n",
       "</dt>\n",
       "<dd>\n",
       "<auto-check csrf=\"SV5DINw57FZEJ8VzlPKjZPhaYREgqW+RMqV65byfwzXx9tOmUFrNVddnYklZA3e8pdGdF6719DuW3z3uoINDZg==\" src=\"/signup_check/email\">\n",
       "<input class=\"form-control form-control-lg input-block input-lg js-email-notice-trigger\" id=\"user[email]-footer\" name=\"user[email]\" placeholder=\"Your email address\" type=\"text\"/>\n",
       "</auto-check>\n",
       "</dd>\n",
       "</dl>\n",
       "<dl class=\"form-group col-12 col-sm-8 col-lg-3 mx-auto mt-0 mx-lg-0 mb-3 mb-lg-0 px-3\">\n",
       "<dt class=\"input-label sr-only\">\n",
       "<label class=\"d-none form-label text-gray f5\" for=\"user[password]-footer\">Password</label>\n",
       "</dt>\n",
       "<dd>\n",
       "<input class=\"form-control form-control-lg input-block input-lg\" id=\"user[password]-footer\" name=\"user[password]\" placeholder=\"Create a password\" type=\"password\"/>\n",
       "</dd>\n",
       "</dl>\n",
       "<input class=\"js-signup-source\" name=\"source\" type=\"hidden\" value=\"form-home\"/>\n",
       "<input class=\"form-control\" hidden=\"hidden\" id=\"required_field_e657\" name=\"required_field_e657\" type=\"text\"/>\n",
       "<input class=\"form-control\" name=\"timestamp\" type=\"hidden\" value=\"1534595416594\"/>\n",
       "<input class=\"form-control\" name=\"timestamp_secret\" type=\"hidden\" value=\"8561854c2f5cd4dded06394c5400ef3475f7080d5c1fb2c1a682ddfd5e31ffb6\"/>\n",
       "<div class=\"col-12 col-sm-8 col-lg-3 mx-auto mx-lg-0 mb-3 mb-lg-0 px-3\">\n",
       "<button class=\"btn btn-primary btn-large f4 btn-block\" data-ga-click=\"Signup, Attempt, location:featurette\" type=\"submit\">Sign up for GitHub</button>\n",
       "</div>\n",
       "</div>\n",
       "<p class=\"form-control-note text-center mt-6\">\n",
       "          By clicking “Sign up for GitHub”, you agree to our\n",
       "          <a class=\"text-white\" href=\"https://help.github.com/terms\" target=\"_blank\">terms of service</a> and\n",
       "          <a class=\"text-white\" href=\"https://help.github.com/privacy\" target=\"_blank\">privacy statement</a>. <span class=\"js-email-notice\">We’ll occasionally send you account related emails.</span>\n",
       "</p>\n",
       "</form> </div>\n",
       "</div>\n",
       "<div class=\"modal-backdrop js-touch-events\"></div>\n",
       "</div>\n",
       "<div class=\"footer container-lg p-responsive mt-6\" role=\"contentinfo\">\n",
       "<div class=\"d-flex flex-wrap py-5 mb-5\">\n",
       "<div class=\"col-12 col-md-2 mb-3\">\n",
       "<svg aria-hidden=\"true\" class=\"octicon octicon-logo-github\" height=\"24\" version=\"1.1\" viewbox=\"0 0 45 16\" width=\"67\"><path d=\"M18.53 12.03h-.02c.009 0 .015.01.024.011h.006l-.01-.01zm.004.011c-.093.001-.327.05-.574.05-.78 0-1.05-.36-1.05-.83V8.13h1.59c.09 0 .16-.08.16-.19v-1.7c0-.09-.08-.17-.16-.17h-1.59V3.96c0-.08-.05-.13-.14-.13h-2.16c-.09 0-.14.05-.14.13v2.17s-1.09.27-1.16.28c-.08.02-.13.09-.13.17v1.36c0 .11.08.19.17.19h1.11v3.28c0 2.44 1.7 2.69 2.86 2.69.53 0 1.17-.17 1.27-.22.06-.02.09-.09.09-.16v-1.5a.177.177 0 0 0-.146-.18zm23.696-2.2c0-1.81-.73-2.05-1.5-1.97-.6.04-1.08.34-1.08.34v3.52s.49.34 1.22.36c1.03.03 1.36-.34 1.36-2.25zm2.43-.16c0 3.43-1.11 4.41-3.05 4.41-1.64 0-2.52-.83-2.52-.83s-.04.46-.09.52c-.03.06-.08.08-.14.08h-1.48c-.1 0-.19-.08-.19-.17l.02-11.11c0-.09.08-.17.17-.17h2.13c.09 0 .17.08.17.17v3.77s.82-.53 2.02-.53l-.01-.02c1.2 0 2.97.45 2.97 3.88zm-8.72-3.61h-2.1c-.11 0-.17.08-.17.19v5.44s-.55.39-1.3.39-.97-.34-.97-1.09V6.25c0-.09-.08-.17-.17-.17h-2.14c-.09 0-.17.08-.17.17v5.11c0 2.2 1.23 2.75 2.92 2.75 1.39 0 2.52-.77 2.52-.77s.05.39.08.45c.02.05.09.09.16.09h1.34c.11 0 .17-.08.17-.17l.02-7.47c0-.09-.08-.17-.19-.17zm-23.7-.01h-2.13c-.09 0-.17.09-.17.2v7.34c0 .2.13.27.3.27h1.92c.2 0 .25-.09.25-.27V6.23c0-.09-.08-.17-.17-.17zm-1.05-3.38c-.77 0-1.38.61-1.38 1.38 0 .77.61 1.38 1.38 1.38.75 0 1.36-.61 1.36-1.38 0-.77-.61-1.38-1.36-1.38zm16.49-.25h-2.11c-.09 0-.17.08-.17.17v4.09h-3.31V2.6c0-.09-.08-.17-.17-.17h-2.13c-.09 0-.17.08-.17.17v11.11c0 .09.09.17.17.17h2.13c.09 0 .17-.08.17-.17V8.96h3.31l-.02 4.75c0 .09.08.17.17.17h2.13c.09 0 .17-.08.17-.17V2.6c0-.09-.08-.17-.17-.17zM8.81 7.35v5.74c0 .04-.01.11-.06.13 0 0-1.25.89-3.31.89-2.49 0-5.44-.78-5.44-5.92S2.58 1.99 5.1 2c2.18 0 3.06.49 3.2.58.04.05.06.09.06.14L7.94 4.5c0 .09-.09.2-.2.17-.36-.11-.9-.33-2.17-.33-1.47 0-3.05.42-3.05 3.73s1.5 3.7 2.58 3.7c.92 0 1.25-.11 1.25-.11v-2.3H4.88c-.11 0-.19-.08-.19-.17V7.35c0-.09.08-.17.19-.17h3.74c.11 0 .19.08.19.17z\" fill-rule=\"evenodd\"></path></svg>\n",
       "<p class=\"text-gray alt-text-small\">\n",
       "        © 2018\n",
       "      </p>\n",
       "</div>\n",
       "<div class=\"col-6 col-sm-4 col-md-2 mb-3 pr-3\">\n",
       "<h4 class=\"mb-2\">Features</h4>\n",
       "<ul class=\"list-style-none text-gray\">\n",
       "<li class=\"lh-condensed mb-2\"><a class=\"muted-link alt-text-small\" href=\"/features#code-review\">Code review</a></li>\n",
       "<li class=\"lh-condensed mb-2\"><a class=\"muted-link alt-text-small\" href=\"/features#project-management\">Project management</a></li>\n",
       "<li class=\"lh-condensed mb-2\"><a class=\"muted-link alt-text-small\" href=\"/features#integrations\">Integrations</a></li>\n",
       "<li class=\"lh-condensed mb-2\"><a class=\"muted-link alt-text-small\" href=\"/features#team-management\">Team management</a></li>\n",
       "<li class=\"lh-condensed mb-2\"><a class=\"muted-link alt-text-small\" href=\"/features#social-coding\">Social coding</a></li>\n",
       "<li class=\"lh-condensed mb-2\"><a class=\"muted-link alt-text-small no-wrap\" href=\"/features#documentation\">Documentation</a></li>\n",
       "<li class=\"lh-condensed mb-2\"><a class=\"muted-link alt-text-small\" href=\"/features#code-hosting\">Code hosting</a></li>\n",
       "</ul>\n",
       "</div>\n",
       "<div class=\"col-6 col-sm-4 col-md-2 mb-3 pr-3\">\n",
       "<h4 class=\"mb-2\">Platform</h4>\n",
       "<ul class=\"list-style-none\">\n",
       "<li class=\"lh-condensed mb-2\"><a class=\"muted-link alt-text-small\" href=\"https://atom.io\">Atom</a></li>\n",
       "<li class=\"lh-condensed mb-2\"><a class=\"muted-link alt-text-small\" href=\"http://electron.atom.io/\">Electron</a></li>\n",
       "<li class=\"lh-condensed mb-2\"><a class=\"muted-link alt-text-small\" href=\"https://desktop.github.com/\">GitHub Desktop</a></li>\n",
       "<li class=\"lh-condensed mb-2\"><a class=\"muted-link alt-text-small\" data-ga-click=\"Footer, go to api, text:api\" href=\"https://developer.github.com\">Developer API</a></li>\n",
       "</ul>\n",
       "</div>\n",
       "<div class=\"col-6 col-sm-4 col-md-2 mb-3 pr-3\">\n",
       "<h4 class=\"mb-2\">Community</h4>\n",
       "<ul class=\"list-style-none\">\n",
       "<li class=\"lh-condensed mb-2\"><a class=\"muted-link alt-text-small\" href=\"/personal\">Personal</a></li>\n",
       "<li class=\"lh-condensed mb-2\"><a class=\"muted-link alt-text-small\" href=\"/open-source\">Open source</a></li>\n",
       "<li class=\"lh-condensed mb-2\"><a class=\"muted-link alt-text-small\" href=\"/business\">Business</a></li>\n",
       "<li class=\"lh-condensed mb-2\"><a class=\"muted-link alt-text-small\" href=\"https://education.github.com/\">Education</a></li>\n",
       "<li class=\"lh-condensed mb-2\"><a class=\"muted-link alt-text-small\" href=\"/business/customers\">Customers</a></li>\n",
       "<li class=\"lh-condensed mb-2\"><a class=\"muted-link alt-text-small\" href=\"https://partner.github.com/\">Partners</a></li>\n",
       "<li class=\"lh-condensed mb-2\"><a class=\"muted-link alt-text-small\" href=\"https://community.github.com/\">Sponsorships</a></li>\n",
       "</ul>\n",
       "</div>\n",
       "<div class=\"col-6 col-sm-4 col-md-2 mb-3 pr-3\">\n",
       "<h4 class=\"mb-2\">Company</h4>\n",
       "<ul class=\"list-style-none\">\n",
       "<li class=\"lh-condensed mb-2\"><a class=\"muted-link alt-text-small\" data-ga-click=\"Footer, go to about, text:about\" href=\"https://github.com/about\">About</a></li>\n",
       "<li class=\"lh-condensed mb-2\"><a class=\"muted-link alt-text-small\" data-ga-click=\"Footer, go to Pricing, text:Pricing\" href=\"/pricing\">Pricing</a></li>\n",
       "<li class=\"lh-condensed mb-2\"><a class=\"muted-link alt-text-small\" data-ga-click=\"Footer, go to blog, text:blog\" href=\"https://blog.github.com\">Blog</a></li>\n",
       "<li class=\"lh-condensed mb-2\"><a class=\"muted-link alt-text-small\" href=\"/about/careers\">Careers</a></li>\n",
       "<li class=\"lh-condensed mb-2\"><a class=\"muted-link alt-text-small\" href=\"/about/press\">Press</a></li>\n",
       "<li class=\"lh-condensed mb-2\"><a class=\"muted-link alt-text-small\" href=\"/about/leadership\">Leadership</a></li>\n",
       "<li class=\"lh-condensed mb-2\"><a class=\"muted-link alt-text-small\" href=\"https://shop.github.com\">Shop</a></li>\n",
       "</ul>\n",
       "</div>\n",
       "<div class=\"col-6 col-sm-4 col-md-2 mb-3 pr-3\">\n",
       "<h4 class=\"mb-2\">Resources</h4>\n",
       "<ul class=\"list-style-none\">\n",
       "<li class=\"lh-condensed mb-2\"><a class=\"muted-link alt-text-small\" data-ga-click=\"Footer, go to contact, text:contact\" href=\"https://github.com/contact\">Contact GitHub</a></li>\n",
       "<li class=\"lh-condensed mb-2\"><a class=\"muted-link alt-text-small\" data-ga-click=\"Footer, go to community, text:community\" href=\"https://github.community\">Community Forum</a></li>\n",
       "<li class=\"lh-condensed mb-2\"><a class=\"muted-link alt-text-small\" data-ga-click=\"Footer, go to help, text:help\" href=\"https://help.github.com\">Help</a></li>\n",
       "<li class=\"lh-condensed mb-2\"><a class=\"muted-link alt-text-small\" data-ga-click=\"Footer, go to status, text:status\" href=\"https://status.github.com/\">Status</a></li>\n",
       "<li class=\"lh-condensed mb-2\"><a class=\"muted-link alt-text-small\" data-ga-click=\"Footer, go to terms, text:terms\" href=\"/site/terms\">Terms</a></li>\n",
       "<li class=\"lh-condensed mb-2\"><a class=\"muted-link alt-text-small\" data-ga-click=\"Footer, go to privacy, text:privacy\" href=\"/site/privacy\">Privacy</a></li>\n",
       "<li class=\"lh-condensed mb-2\"><a class=\"muted-link alt-text-small\" data-ga-click=\"Footer, go to security, text:security\" href=\"https://help.github.com/articles/github-security/\">Security</a></li>\n",
       "<li class=\"lh-condensed mb-2\"><a class=\"muted-link alt-text-small\" href=\"https://services.github.com/\">Training</a></li>\n",
       "</ul>\n",
       "</div>\n",
       "</div>\n",
       "</div>\n",
       "<div class=\"ajax-error-message flash flash-error\" id=\"ajax-error-message\">\n",
       "<svg aria-hidden=\"true\" class=\"octicon octicon-alert\" height=\"16\" version=\"1.1\" viewbox=\"0 0 16 16\" width=\"16\"><path d=\"M8.893 1.5c-.183-.31-.52-.5-.887-.5s-.703.19-.886.5L.138 13.499a.98.98 0 0 0 0 1.001c.193.31.53.501.886.501h13.964c.367 0 .704-.19.877-.5a1.03 1.03 0 0 0 .01-1.002L8.893 1.5zm.133 11.497H6.987v-2.003h2.039v2.003zm0-3.004H6.987V5.987h2.039v4.006z\" fill-rule=\"evenodd\"></path></svg>\n",
       "<button aria-label=\"Dismiss error\" class=\"flash-close js-ajax-error-dismiss\" type=\"button\">\n",
       "<svg aria-hidden=\"true\" class=\"octicon octicon-x\" height=\"16\" version=\"1.1\" viewbox=\"0 0 12 16\" width=\"12\"><path d=\"M7.48 8l3.75 3.75-1.48 1.48L6 9.48l-3.75 3.75-1.48-1.48L4.52 8 .77 4.25l1.48-1.48L6 6.52l3.75-3.75 1.48 1.48L7.48 8z\" fill-rule=\"evenodd\"></path></svg>\n",
       "</button>\n",
       "    You can’t perform that action at this time.\n",
       "  </div>\n",
       "<script crossorigin=\"anonymous\" integrity=\"sha512-2VdGgXQE8W5ONZ4OsrbEo/noennUZaqXkevD9R8juTHiCsjT0HFTTF6MoBfySUc8G+eFqUcDgd7v+CAu8Gjxlg==\" src=\"https://assets-cdn.github.com/assets/compat-f849c975b0ffaa01d6ca305e48417d08.js\" type=\"application/javascript\"></script>\n",
       "<script crossorigin=\"anonymous\" integrity=\"sha512-5Y3LREAfvm+nZ6YjoZt8WVf7lw7GnaeMghM+ILrhL7L4T9o2ZBSPibGcpU7os/YCfi7xtcB9cZZErGP9G2vJ2g==\" src=\"https://assets-cdn.github.com/assets/frameworks-320b28cdf5601867c9f1610023761057.js\" type=\"application/javascript\"></script>\n",
       "<script async=\"async\" crossorigin=\"anonymous\" integrity=\"sha512-rkFU1tjGDiPXfsRvrbgV1cl/kCgd86Ew2YxY1dcoyHLhuse3CO9NqRrH5IbdsUj9s+v2SQQLXwLqvqYyg5Pcuw==\" src=\"https://assets-cdn.github.com/assets/github-9f6aea8660235281de0de8a34bdc58b9.js\" type=\"application/javascript\"></script>\n",
       "<div class=\"js-stale-session-flash stale-session-flash flash flash-warn flash-banner d-none\">\n",
       "<svg aria-hidden=\"true\" class=\"octicon octicon-alert\" height=\"16\" version=\"1.1\" viewbox=\"0 0 16 16\" width=\"16\"><path d=\"M8.893 1.5c-.183-.31-.52-.5-.887-.5s-.703.19-.886.5L.138 13.499a.98.98 0 0 0 0 1.001c.193.31.53.501.886.501h13.964c.367 0 .704-.19.877-.5a1.03 1.03 0 0 0 .01-1.002L8.893 1.5zm.133 11.497H6.987v-2.003h2.039v2.003zm0-3.004H6.987V5.987h2.039v4.006z\" fill-rule=\"evenodd\"></path></svg>\n",
       "<span class=\"signed-in-tab-flash\">You signed in with another tab or window. <a href=\"\">Reload</a> to refresh your session.</span>\n",
       "<span class=\"signed-out-tab-flash\">You signed out in another tab or window. <a href=\"\">Reload</a> to refresh your session.</span>\n",
       "</div>\n",
       "<div class=\"facebox\" id=\"facebox\" style=\"display:none;\">\n",
       "<div class=\"facebox-popup\">\n",
       "<div aria-describedby=\"facebox-description\" aria-labelledby=\"facebox-header\" class=\"facebox-content\" role=\"dialog\">\n",
       "</div>\n",
       "<button aria-label=\"Close modal\" class=\"facebox-close js-facebox-close\" type=\"button\">\n",
       "<svg aria-hidden=\"true\" class=\"octicon octicon-x\" height=\"16\" version=\"1.1\" viewbox=\"0 0 12 16\" width=\"12\"><path d=\"M7.48 8l3.75 3.75-1.48 1.48L6 9.48l-3.75 3.75-1.48-1.48L4.52 8 .77 4.25l1.48-1.48L6 6.52l3.75-3.75 1.48 1.48L7.48 8z\" fill-rule=\"evenodd\"></path></svg>\n",
       "</button>\n",
       "</div>\n",
       "</div>\n",
       "<template id=\"site-details-dialog\">\n",
       "<details class=\"details-reset details-overlay details-overlay-dark lh-default text-gray-dark\" open=\"\">\n",
       "<summary aria-haspopup=\"dialog\" aria-label=\"Close dialog\"></summary>\n",
       "<details-dialog class=\"Box Box--overlay d-flex flex-column anim-fade-in fast\">\n",
       "<button aria-label=\"Close dialog\" class=\"m-3 btn-octicon position-absolute right-0 top-0\" data-close-dialog=\"\" type=\"button\">\n",
       "<svg aria-hidden=\"true\" class=\"octicon octicon-x\" height=\"16\" version=\"1.1\" viewbox=\"0 0 12 16\" width=\"12\"><path d=\"M7.48 8l3.75 3.75-1.48 1.48L6 9.48l-3.75 3.75-1.48-1.48L4.52 8 .77 4.25l1.48-1.48L6 6.52l3.75-3.75 1.48 1.48L7.48 8z\" fill-rule=\"evenodd\"></path></svg>\n",
       "</button>\n",
       "<div class=\"octocat-spinner my-6 js-details-dialog-spinner\"></div>\n",
       "</details-dialog>\n",
       "</details>\n",
       "</template>\n",
       "<div class=\"Popover js-hovercard-content position-absolute\" style=\"display: none; outline: none;\" tabindex=\"0\">\n",
       "<div class=\"Popover-message Popover-message--bottom-left Popover-message--large Box box-shadow-large\" style=\"width:360px;\">\n",
       "</div>\n",
       "</div>\n",
       "<div class=\"sr-only\" id=\"hovercard-aria-description\">\n",
       "  Press h to open a hovercard with more details.\n",
       "</div>\n",
       "</body>\n",
       "</html>"
      ]
     },
     "execution_count": 24,
     "metadata": {},
     "output_type": "execute_result"
    }
   ],
   "source": [
    "soup = BeautifulSoup(r_html)\n",
    "soup"
   ]
  },
  {
   "cell_type": "code",
   "execution_count": 25,
   "metadata": {
    "collapsed": true
   },
   "outputs": [],
   "source": [
    "title = soup.find('span', 'articletitle')"
   ]
  },
  {
   "cell_type": "code",
   "execution_count": 26,
   "metadata": {
    "collapsed": true
   },
   "outputs": [],
   "source": [
    "title"
   ]
  },
  {
   "cell_type": "code",
   "execution_count": 27,
   "metadata": {
    "collapsed": false
   },
   "outputs": [
    {
     "name": "stdout",
     "output_type": "stream",
     "text": [
      "Give me a number: 5\n"
     ]
    },
    {
     "ename": "NameError",
     "evalue": "name 'num' is not defined",
     "output_type": "error",
     "traceback": [
      "\u001b[0;31m---------------------------------------------------------------------------\u001b[0m",
      "\u001b[0;31mNameError\u001b[0m                                 Traceback (most recent call last)",
      "\u001b[0;32m<ipython-input-27-8e4ec7e272e2>\u001b[0m in \u001b[0;36m<module>\u001b[0;34m()\u001b[0m\n\u001b[1;32m      4\u001b[0m \u001b[1;32mif\u001b[0m \u001b[0m__name__\u001b[0m\u001b[1;33m==\u001b[0m\u001b[1;34m\"__main__\"\u001b[0m\u001b[1;33m:\u001b[0m\u001b[1;33m\u001b[0m\u001b[0m\n\u001b[1;32m      5\u001b[0m     \u001b[0muser_num\u001b[0m \u001b[1;33m=\u001b[0m \u001b[0minput\u001b[0m\u001b[1;33m(\u001b[0m\u001b[1;34m\"Give me a number: \"\u001b[0m\u001b[1;33m)\u001b[0m\u001b[1;33m\u001b[0m\u001b[0m\n\u001b[0;32m----> 6\u001b[0;31m     \u001b[0mprint\u001b[0m\u001b[1;33m(\u001b[0m\u001b[0msquare\u001b[0m\u001b[1;33m(\u001b[0m\u001b[0mnum\u001b[0m\u001b[1;33m)\u001b[0m\u001b[1;33m)\u001b[0m\u001b[1;33m\u001b[0m\u001b[0m\n\u001b[0m",
      "\u001b[0;31mNameError\u001b[0m: name 'num' is not defined"
     ]
    }
   ],
   "source": [
    "def square(num):\n",
    "    return num * num\n",
    "\n",
    "if __name__==\"__main__\":\n",
    "    user_num = input(\"Give me a number: \")\n",
    "    print(square(num))"
   ]
  },
  {
   "cell_type": "code",
   "execution_count": 29,
   "metadata": {
    "collapsed": false
   },
   "outputs": [
    {
     "name": "stdout",
     "output_type": "stream",
     "text": [
      "Michele can see a rated R movie\n"
     ]
    }
   ],
   "source": [
    "michele_age = 22\n",
    "truth_value = michele_age > 17\n",
    "if (truth_value):\n",
    "    print(\"Michele can see a rated R movie\")"
   ]
  },
  {
   "cell_type": "code",
   "execution_count": null,
   "metadata": {
    "collapsed": false
   },
   "outputs": [
    {
     "name": "stdout",
     "output_type": "stream",
     "text": [
      "How old are you? 23\n",
      "can see a rated R movie\n",
      "How old are you? 23\n",
      "can see a rated R movie\n",
      "How old are you? 23\n",
      "can see a rated R movie\n",
      "How old are you? 3\n",
      "can only see rated PG movies\n"
     ]
    }
   ],
   "source": [
    "while True:\n",
    "    age = int(input(\"How old are you? \"))\n",
    "    if age >= 17: \n",
    "      print(\"can see a rated R movie\")\n",
    "    elif age < 17 and age > 12:\n",
    "      print(\"can see a rated PG-13 movie\")\n",
    "    else: \n",
    "      print(\"can only see rated PG movies\")"
   ]
  },
  {
   "cell_type": "code",
   "execution_count": null,
   "metadata": {
    "collapsed": true
   },
   "outputs": [],
   "source": [
    "age = 21\n",
    "if age == 21:\n",
    "    print(\"You are 21!\")\n",
    "elif age > 21:\n",
    "    print(\"You're old.\")\n",
    "else:\n",
    "    print(\"Young one!\")"
   ]
  },
  {
   "cell_type": "code",
   "execution_count": null,
   "metadata": {
    "collapsed": true
   },
   "outputs": [],
   "source": []
  }
 ],
 "metadata": {
  "anaconda-cloud": {},
  "kernelspec": {
   "display_name": "Python [conda root]",
   "language": "python",
   "name": "conda-root-py"
  },
  "language_info": {
   "codemirror_mode": {
    "name": "ipython",
    "version": 3
   },
   "file_extension": ".py",
   "mimetype": "text/x-python",
   "name": "python",
   "nbconvert_exporter": "python",
   "pygments_lexer": "ipython3",
   "version": "3.5.2"
  }
 },
 "nbformat": 4,
 "nbformat_minor": 1
}
